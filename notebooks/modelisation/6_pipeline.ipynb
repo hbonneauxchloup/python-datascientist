{
 "cells": [
  {
   "cell_type": "raw",
   "id": "ee4a2b3a",
   "metadata": {},
   "source": [
    "---\n",
    "title: \"Premier pas vers l'industrialisation avec les pipelines scikit\"\n",
    "date: 2020-10-20T13:00:00Z\n",
    "draft: false\n",
    "weight: 60\n",
    "slug: pipeline-scikit\n",
    "type: book\n",
    "tags:\n",
    "  - scikit\n",
    "  - machine learning\n",
    "  - pipeline\n",
    "categories:\n",
    "  - Tutorial\n",
    "summary: |\n",
    "  Les pipelines scikit permettent d'intégrer de manière très flexible\n",
    "  un ensemble d'opérations de pre-processing et d'entraînement de modèles\n",
    "  dans une chaîne d'opérations. Il s'agit d'une approche particulièrement\n",
    "  appropriée pour réduire la difficulté à changer d'algorithme ou pour\n",
    "  faciliter la ré-application d'un code à de nouvelles données\n",
    "---"
   ]
  },
  {
   "cell_type": "markdown",
   "id": "65311f43",
   "metadata": {},
   "source": []
  },
  {
   "cell_type": "markdown",
   "id": "9a82ec6c",
   "metadata": {},
   "source": [
    "<a href=\"https://github.com/linogaliana/python-datascientist/blob/master//__w/python-datascientist/python-datascientist/notebooks/course/modelisation/6_pipeline.ipynb\" class=\"github\"><i class=\"fab fa-github\"></i></a>\n",
    "[![Download](https://img.shields.io/badge/Download-Notebook-important?logo=Jupyter)](https://downgit.github.io/#/home?url=https://github.com/linogaliana/python-datascientist/blob/master//__w/python-datascientist/python-datascientist/notebooks/course/modelisation/6_pipeline.ipynb)\n",
    "[![nbviewer](https://img.shields.io/badge/Visualize-nbviewer-blue?logo=Jupyter)](https://nbviewer.jupyter.org/github/linogaliana/python-datascientist/blob/master//__w/python-datascientist/python-datascientist/notebooks/course/modelisation/6_pipeline.ipynb)\n",
    "[![Onyxia](https://img.shields.io/badge/SSPcloud-Tester%20via%20SSP--cloud-informational&color=yellow?logo=Python)](https://datalab.sspcloud.fr/launcher/inseefrlab-helm-charts-datascience/jupyter?onyxia.friendlyName=«python-datascientist»&resources.requests.memory=«4Gi»&security.allowlist.enabled=false&init.personalInit=«https://raw.githubusercontent.com/linogaliana/python-datascientist/master/init_onyxia.sh»)\n",
    "<br>\n",
    "[![Binder](https://img.shields.io/badge/Launch-Binder-E66581.svg?logo=data:image/png;base64,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)](https://mybinder.org/v2/gh/linogaliana/python-datascientist/master?filepath=/__w/python-datascientist/python-datascientist/notebooks/course/modelisation/6_pipeline.ipynb)\n",
    "[![Open In Colab](https://colab.research.google.com/assets/colab-badge.svg)](http://colab.research.google.com/github/linogaliana/python-datascientist/blob/master//__w/python-datascientist/python-datascientist/notebooks/course/modelisation/6_pipeline.ipynb)\n",
    "[![githubdev](https://open.vscode.dev/badges/open-in-vscode.svg)](https://github.dev/linogaliana/python-datascientist//__w/python-datascientist/python-datascientist/notebooks/course/modelisation/6_pipeline.ipynb)\n",
    "\n",
    "# Pourquoi utiliser les pipelines ?\n",
    "\n",
    "Les chapitres précédents ont permis de montrer des bouts de code \n",
    "épars pour entraîner des modèles ou faire du _preprocessing_.\n",
    "Cette démarche est intéressante pour tâtonner mais risque d'être coûteuse\n",
    "ultérieurement s'il est nécessaire d'ajouter une étape de preprocessing \n",
    "ou de changer d'algorithme.\n",
    "\n",
    "Heureusement, `scikit` propose un excellent outil pour proposer un cadre\n",
    "général pour créer une chaîne de production *machine learning*. Il\n",
    "s'agit des\n",
    "[_pipelines_](https://scikit-learn.org/stable/modules/compose.html). \n",
    "Ils présentent de nombreux intérêts, parmi lesquels:\n",
    "\n",
    "* Ils sont très __pratiques__ et __lisibles__. On rentre des données en entrée, on n'appelle qu'une seule fois les méthodes `fit` et `predict` ce qui permet de s'assurer une gestion cohérente des transformations de variables, par exemple après l'appel d'un `StandardScaler`\n",
    "* La __modularité__ rend aisée la mise à jour d'un pipeline et renforce la capacité à le réutiliser\n",
    "* Ils permettent de facilement chercher les hyperparamètres d'un modèle. Sans *pipeline*, écrire un code qui fait du *tuning* d'hyperparamètres peut être pénible. Avec les *pipelines*, c'est une ligne de code. \n",
    "* La __sécurité__ d'être certain que les étapes de preprocessing sont bien appliquées aux jeux de données désirés avant l'estimation. "
   ]
  },
  {
   "cell_type": "markdown",
   "id": "36ec1901",
   "metadata": {},
   "source": [
    "{{% panel status=\"hint\" title=\"Hint\" icon=\"fa fa-lightbulb\" %}}\n",
    "Un des intérêts des *pipelines* scikit est qu'ils fonctionnent aussi avec\n",
    "des méthodes qui ne sont pas issues de `scikit`.\n",
    "\n",
    "Il est très \n",
    "facile d'introduire un modèle de réseau de neurone `Keras` dans\n",
    "un pipeline `scikit`.\n",
    "\n",
    "Pour introduire un modèle économétrique `statsmodels`\n",
    "c'est un peu plus coûteux mais nous allons proposer des exemples\n",
    "qui peuvent servir de modèle et qui montrent que c'est faisable \n",
    "sans trop de difficulté.\n",
    "{{% /panel %}}\n",
    "\n",
    "{{% panel status=\"warning\" title=\"Warning\" icon=\"fa fa-exclamation-triangle\" %}}\n",
    "\n",
    "Les éléments présents dans ce chapitre nécessitent une version assez récente\n",
    "de `scikit` (au moins la version 1.0). Pour vérifier la version, faire:\n"
   ]
  },
  {
   "cell_type": "code",
   "execution_count": null,
   "id": "bf6be6c2",
   "metadata": {},
   "outputs": [],
   "source": [
    "import sklearn\n",
    "print(sklearn.__version__)"
   ]
  },
  {
   "cell_type": "markdown",
   "id": "56636ded",
   "metadata": {},
   "source": [
    "```\n",
    "## 1.0.2\n",
    "```\n",
    "\n",
    "Il faut également une version récente de `yellowbrick` pour éviter l'erreur\n",
    "suivante quand on utilise une version récente de `scikit` (ce que \n",
    "je recommande):\n",
    "\n",
    "> `ImportError: cannot import name 'safe_indexing' from 'sklearn.utils'`"
   ]
  },
  {
   "cell_type": "markdown",
   "id": "90eb8639",
   "metadata": {},
   "source": [
    "{{% /panel %}}\n"
   ]
  },
  {
   "cell_type": "markdown",
   "id": "ad3fe844",
   "metadata": {},
   "source": [
    "# Comment créer un *pipeline*\n",
    "\n",
    "Un *pipeline* est un enchaînement d'opérations qu'on code en enchainant\n",
    "des pairs *(clé, valeur)*:\n",
    "\n",
    "* la clé est le nom du pipeline, cela peut être utile lorsqu'on va\n",
    "représenter le *pipeline* sous forme de diagramme acyclique (visualisation DAG)\n",
    "ou qu'on veut afficher des informations sur une étape\n",
    "* la valeur représente la transformation à mettre en oeuvre dans le *pipeline*\n",
    "(c'est-à-dire, à l'exception de la dernière étape, \n",
    "mettre en oeuvre une méthode `transform` et éventuellement une\n",
    "transformation inverse).\n",
    "\n"
   ]
  },
  {
   "cell_type": "code",
   "execution_count": null,
   "id": "9c178a43",
   "metadata": {
    "lines_to_next_cell": 0
   },
   "outputs": [],
   "source": [
    "from sklearn.pipeline import Pipeline\n",
    "from sklearn.svm import SVC\n",
    "from sklearn.decomposition import PCA\n",
    "\n",
    "estimators = [('reduce_dim', PCA()), ('clf', SVC())]\n",
    "pipe = Pipeline(estimators)"
   ]
  },
  {
   "cell_type": "markdown",
   "id": "0012bb32",
   "metadata": {},
   "source": [
    "\n"
   ]
  },
  {
   "cell_type": "markdown",
   "id": "903aec83",
   "metadata": {},
   "source": [
    "{{% panel status=\"hint\" title=\"Hint\" icon=\"fa fa-lightbulb\" %}}\n",
    "\n",
    "Il est pratique de visualiser un *pipeline* sous forme de DAG.\n",
    "Pour cela, dans un notebook, on utilise la configuration\n",
    "suivante:\n"
   ]
  },
  {
   "cell_type": "code",
   "execution_count": null,
   "id": "43a88888",
   "metadata": {},
   "outputs": [],
   "source": [
    "from sklearn import set_config\n",
    "set_config(display='diagram') "
   ]
  },
  {
   "cell_type": "markdown",
   "id": "c1ae2ff0",
   "metadata": {},
   "source": [
    "{{% /panel %}}\n"
   ]
  },
  {
   "cell_type": "code",
   "execution_count": null,
   "id": "cbe2dcb5",
   "metadata": {},
   "outputs": [],
   "source": [
    "pipe"
   ]
  },
  {
   "cell_type": "markdown",
   "id": "1d1c1f20",
   "metadata": {},
   "source": [
    "{{< rawhtml >}}\n",
    "\n",
    "<style>#sk-2b664cfe-d40b-464e-889e-9e208058ff13 {color: black;background-color: white;}#sk-2b664cfe-d40b-464e-889e-9e208058ff13 pre{padding: 0;}#sk-2b664cfe-d40b-464e-889e-9e208058ff13 div.sk-toggleable {background-color: white;}#sk-2b664cfe-d40b-464e-889e-9e208058ff13 label.sk-toggleable__label {cursor: pointer;display: block;width: 100%;margin-bottom: 0;padding: 0.3em;box-sizing: border-box;text-align: center;}#sk-2b664cfe-d40b-464e-889e-9e208058ff13 label.sk-toggleable__label-arrow:before {content: \"▸\";float: left;margin-right: 0.25em;color: #696969;}#sk-2b664cfe-d40b-464e-889e-9e208058ff13 label.sk-toggleable__label-arrow:hover:before {color: black;}#sk-2b664cfe-d40b-464e-889e-9e208058ff13 div.sk-estimator:hover label.sk-toggleable__label-arrow:before {color: black;}#sk-2b664cfe-d40b-464e-889e-9e208058ff13 div.sk-toggleable__content {max-height: 0;max-width: 0;overflow: hidden;text-align: left;background-color: #f0f8ff;}#sk-2b664cfe-d40b-464e-889e-9e208058ff13 div.sk-toggleable__content pre {margin: 0.2em;color: black;border-radius: 0.25em;background-color: #f0f8ff;}#sk-2b664cfe-d40b-464e-889e-9e208058ff13 input.sk-toggleable__control:checked~div.sk-toggleable__content {max-height: 200px;max-width: 100%;overflow: auto;}#sk-2b664cfe-d40b-464e-889e-9e208058ff13 input.sk-toggleable__control:checked~label.sk-toggleable__label-arrow:before {content: \"▾\";}#sk-2b664cfe-d40b-464e-889e-9e208058ff13 div.sk-estimator input.sk-toggleable__control:checked~label.sk-toggleable__label {background-color: #d4ebff;}#sk-2b664cfe-d40b-464e-889e-9e208058ff13 div.sk-label input.sk-toggleable__control:checked~label.sk-toggleable__label {background-color: #d4ebff;}#sk-2b664cfe-d40b-464e-889e-9e208058ff13 input.sk-hidden--visually {border: 0;clip: rect(1px 1px 1px 1px);clip: rect(1px, 1px, 1px, 1px);height: 1px;margin: -1px;overflow: hidden;padding: 0;position: absolute;width: 1px;}#sk-2b664cfe-d40b-464e-889e-9e208058ff13 div.sk-estimator {font-family: monospace;background-color: #f0f8ff;border: 1px dotted black;border-radius: 0.25em;box-sizing: border-box;margin-bottom: 0.5em;}#sk-2b664cfe-d40b-464e-889e-9e208058ff13 div.sk-estimator:hover {background-color: #d4ebff;}#sk-2b664cfe-d40b-464e-889e-9e208058ff13 div.sk-parallel-item::after {content: \"\";width: 100%;border-bottom: 1px solid gray;flex-grow: 1;}#sk-2b664cfe-d40b-464e-889e-9e208058ff13 div.sk-label:hover label.sk-toggleable__label {background-color: #d4ebff;}#sk-2b664cfe-d40b-464e-889e-9e208058ff13 div.sk-serial::before {content: \"\";position: absolute;border-left: 1px solid gray;box-sizing: border-box;top: 2em;bottom: 0;left: 50%;}#sk-2b664cfe-d40b-464e-889e-9e208058ff13 div.sk-serial {display: flex;flex-direction: column;align-items: center;background-color: white;padding-right: 0.2em;padding-left: 0.2em;}#sk-2b664cfe-d40b-464e-889e-9e208058ff13 div.sk-item {z-index: 1;}#sk-2b664cfe-d40b-464e-889e-9e208058ff13 div.sk-parallel {display: flex;align-items: stretch;justify-content: center;background-color: white;}#sk-2b664cfe-d40b-464e-889e-9e208058ff13 div.sk-parallel::before {content: \"\";position: absolute;border-left: 1px solid gray;box-sizing: border-box;top: 2em;bottom: 0;left: 50%;}#sk-2b664cfe-d40b-464e-889e-9e208058ff13 div.sk-parallel-item {display: flex;flex-direction: column;position: relative;background-color: white;}#sk-2b664cfe-d40b-464e-889e-9e208058ff13 div.sk-parallel-item:first-child::after {align-self: flex-end;width: 50%;}#sk-2b664cfe-d40b-464e-889e-9e208058ff13 div.sk-parallel-item:last-child::after {align-self: flex-start;width: 50%;}#sk-2b664cfe-d40b-464e-889e-9e208058ff13 div.sk-parallel-item:only-child::after {width: 0;}#sk-2b664cfe-d40b-464e-889e-9e208058ff13 div.sk-dashed-wrapped {border: 1px dashed gray;margin: 0 0.4em 0.5em 0.4em;box-sizing: border-box;padding-bottom: 0.4em;background-color: white;position: relative;}#sk-2b664cfe-d40b-464e-889e-9e208058ff13 div.sk-label label {font-family: monospace;font-weight: bold;background-color: white;display: inline-block;line-height: 1.2em;}#sk-2b664cfe-d40b-464e-889e-9e208058ff13 div.sk-label-container {position: relative;z-index: 2;text-align: center;}#sk-2b664cfe-d40b-464e-889e-9e208058ff13 div.sk-container {/* jupyter's `normalize.less` sets `[hidden] { display: none; }` but bootstrap.min.css set `[hidden] { display: none !important; }` so we also need the `!important` here to be able to override the default hidden behavior on the sphinx rendered scikit-learn.org. See: https://github.com/scikit-learn/scikit-learn/issues/21755 */display: inline-block !important;position: relative;}#sk-2b664cfe-d40b-464e-889e-9e208058ff13 div.sk-text-repr-fallback {display: none;}</style><div id=\"sk-2b664cfe-d40b-464e-889e-9e208058ff13\" class=\"sk-top-container\"><div class=\"sk-text-repr-fallback\"><pre>Pipeline(steps=[(&#x27;reduce_dim&#x27;, PCA()), (&#x27;clf&#x27;, SVC())])</pre><b>Please rerun this cell to show the HTML repr or trust the notebook.</b></div><div class=\"sk-container\" hidden><div class=\"sk-item sk-dashed-wrapped\"><div class=\"sk-label-container\"><div class=\"sk-label sk-toggleable\"><input class=\"sk-toggleable__control sk-hidden--visually\" id=\"743d088a-a47e-46b4-a003-52522777d13a\" type=\"checkbox\" ><label for=\"743d088a-a47e-46b4-a003-52522777d13a\" class=\"sk-toggleable__label sk-toggleable__label-arrow\">Pipeline</label><div class=\"sk-toggleable__content\"><pre>Pipeline(steps=[(&#x27;reduce_dim&#x27;, PCA()), (&#x27;clf&#x27;, SVC())])</pre></div></div></div><div class=\"sk-serial\"><div class=\"sk-item\"><div class=\"sk-estimator sk-toggleable\"><input class=\"sk-toggleable__control sk-hidden--visually\" id=\"3cc384cc-cbb3-42ee-94c0-61e41122911d\" type=\"checkbox\" ><label for=\"3cc384cc-cbb3-42ee-94c0-61e41122911d\" class=\"sk-toggleable__label sk-toggleable__label-arrow\">PCA</label><div class=\"sk-toggleable__content\"><pre>PCA()</pre></div></div></div><div class=\"sk-item\"><div class=\"sk-estimator sk-toggleable\"><input class=\"sk-toggleable__control sk-hidden--visually\" id=\"2598f24f-cae7-4be3-8498-e325195694d5\" type=\"checkbox\" ><label for=\"2598f24f-cae7-4be3-8498-e325195694d5\" class=\"sk-toggleable__label sk-toggleable__label-arrow\">SVC</label><div class=\"sk-toggleable__content\"><pre>SVC()</pre></div></div></div></div></div></div></div>\n",
    "\n",
    "{{< /rawhtml >}}\n",
    "\n",
    "Au sein d'une étape de *pipeline*, les paramètres d'un estimateur\n",
    "sont accessibles avec la notation `<estimator>__<parameter>`.\n",
    "Cela permet de fixer des valeurs pour les arguments des fonctions `scikit`\n",
    "qui sont appelées au sein d'un *pipeline*. \n",
    "C'est cela qui rendra l'approche des pipelines particulièrement utile\n",
    "pour la *grid search*:\n"
   ]
  },
  {
   "cell_type": "code",
   "execution_count": null,
   "id": "1ac6ea83",
   "metadata": {},
   "outputs": [],
   "source": [
    "from sklearn.model_selection import GridSearchCV\n",
    "param_grid = {\"reduce_dim__n_components\":[2, 5, 10], \"clf__C\":[0.1, 10, 100]}\n",
    "grid_search = GridSearchCV(pipe, param_grid=param_grid)"
   ]
  },
  {
   "cell_type": "markdown",
   "id": "84a2cb29",
   "metadata": {},
   "source": [
    "{{< rawhtml >}}\n",
    "\n",
    "<style>#sk-9d1a9cd2-9701-43fa-92bc-bdd400c8f9a2 {color: black;background-color: white;}#sk-9d1a9cd2-9701-43fa-92bc-bdd400c8f9a2 pre{padding: 0;}#sk-9d1a9cd2-9701-43fa-92bc-bdd400c8f9a2 div.sk-toggleable {background-color: white;}#sk-9d1a9cd2-9701-43fa-92bc-bdd400c8f9a2 label.sk-toggleable__label {cursor: pointer;display: block;width: 100%;margin-bottom: 0;padding: 0.3em;box-sizing: border-box;text-align: center;}#sk-9d1a9cd2-9701-43fa-92bc-bdd400c8f9a2 label.sk-toggleable__label-arrow:before {content: \"▸\";float: left;margin-right: 0.25em;color: #696969;}#sk-9d1a9cd2-9701-43fa-92bc-bdd400c8f9a2 label.sk-toggleable__label-arrow:hover:before {color: black;}#sk-9d1a9cd2-9701-43fa-92bc-bdd400c8f9a2 div.sk-estimator:hover label.sk-toggleable__label-arrow:before {color: black;}#sk-9d1a9cd2-9701-43fa-92bc-bdd400c8f9a2 div.sk-toggleable__content {max-height: 0;max-width: 0;overflow: hidden;text-align: left;background-color: #f0f8ff;}#sk-9d1a9cd2-9701-43fa-92bc-bdd400c8f9a2 div.sk-toggleable__content pre {margin: 0.2em;color: black;border-radius: 0.25em;background-color: #f0f8ff;}#sk-9d1a9cd2-9701-43fa-92bc-bdd400c8f9a2 input.sk-toggleable__control:checked~div.sk-toggleable__content {max-height: 200px;max-width: 100%;overflow: auto;}#sk-9d1a9cd2-9701-43fa-92bc-bdd400c8f9a2 input.sk-toggleable__control:checked~label.sk-toggleable__label-arrow:before {content: \"▾\";}#sk-9d1a9cd2-9701-43fa-92bc-bdd400c8f9a2 div.sk-estimator input.sk-toggleable__control:checked~label.sk-toggleable__label {background-color: #d4ebff;}#sk-9d1a9cd2-9701-43fa-92bc-bdd400c8f9a2 div.sk-label input.sk-toggleable__control:checked~label.sk-toggleable__label {background-color: #d4ebff;}#sk-9d1a9cd2-9701-43fa-92bc-bdd400c8f9a2 input.sk-hidden--visually {border: 0;clip: rect(1px 1px 1px 1px);clip: rect(1px, 1px, 1px, 1px);height: 1px;margin: -1px;overflow: hidden;padding: 0;position: absolute;width: 1px;}#sk-9d1a9cd2-9701-43fa-92bc-bdd400c8f9a2 div.sk-estimator {font-family: monospace;background-color: #f0f8ff;border: 1px dotted black;border-radius: 0.25em;box-sizing: border-box;margin-bottom: 0.5em;}#sk-9d1a9cd2-9701-43fa-92bc-bdd400c8f9a2 div.sk-estimator:hover {background-color: #d4ebff;}#sk-9d1a9cd2-9701-43fa-92bc-bdd400c8f9a2 div.sk-parallel-item::after {content: \"\";width: 100%;border-bottom: 1px solid gray;flex-grow: 1;}#sk-9d1a9cd2-9701-43fa-92bc-bdd400c8f9a2 div.sk-label:hover label.sk-toggleable__label {background-color: #d4ebff;}#sk-9d1a9cd2-9701-43fa-92bc-bdd400c8f9a2 div.sk-serial::before {content: \"\";position: absolute;border-left: 1px solid gray;box-sizing: border-box;top: 2em;bottom: 0;left: 50%;}#sk-9d1a9cd2-9701-43fa-92bc-bdd400c8f9a2 div.sk-serial {display: flex;flex-direction: column;align-items: center;background-color: white;padding-right: 0.2em;padding-left: 0.2em;}#sk-9d1a9cd2-9701-43fa-92bc-bdd400c8f9a2 div.sk-item {z-index: 1;}#sk-9d1a9cd2-9701-43fa-92bc-bdd400c8f9a2 div.sk-parallel {display: flex;align-items: stretch;justify-content: center;background-color: white;}#sk-9d1a9cd2-9701-43fa-92bc-bdd400c8f9a2 div.sk-parallel::before {content: \"\";position: absolute;border-left: 1px solid gray;box-sizing: border-box;top: 2em;bottom: 0;left: 50%;}#sk-9d1a9cd2-9701-43fa-92bc-bdd400c8f9a2 div.sk-parallel-item {display: flex;flex-direction: column;position: relative;background-color: white;}#sk-9d1a9cd2-9701-43fa-92bc-bdd400c8f9a2 div.sk-parallel-item:first-child::after {align-self: flex-end;width: 50%;}#sk-9d1a9cd2-9701-43fa-92bc-bdd400c8f9a2 div.sk-parallel-item:last-child::after {align-self: flex-start;width: 50%;}#sk-9d1a9cd2-9701-43fa-92bc-bdd400c8f9a2 div.sk-parallel-item:only-child::after {width: 0;}#sk-9d1a9cd2-9701-43fa-92bc-bdd400c8f9a2 div.sk-dashed-wrapped {border: 1px dashed gray;margin: 0 0.4em 0.5em 0.4em;box-sizing: border-box;padding-bottom: 0.4em;background-color: white;position: relative;}#sk-9d1a9cd2-9701-43fa-92bc-bdd400c8f9a2 div.sk-label label {font-family: monospace;font-weight: bold;background-color: white;display: inline-block;line-height: 1.2em;}#sk-9d1a9cd2-9701-43fa-92bc-bdd400c8f9a2 div.sk-label-container {position: relative;z-index: 2;text-align: center;}#sk-9d1a9cd2-9701-43fa-92bc-bdd400c8f9a2 div.sk-container {/* jupyter's `normalize.less` sets `[hidden] { display: none; }` but bootstrap.min.css set `[hidden] { display: none !important; }` so we also need the `!important` here to be able to override the default hidden behavior on the sphinx rendered scikit-learn.org. See: https://github.com/scikit-learn/scikit-learn/issues/21755 */display: inline-block !important;position: relative;}#sk-9d1a9cd2-9701-43fa-92bc-bdd400c8f9a2 div.sk-text-repr-fallback {display: none;}</style><div id=\"sk-9d1a9cd2-9701-43fa-92bc-bdd400c8f9a2\" class=\"sk-top-container\"><div class=\"sk-text-repr-fallback\"><pre>GridSearchCV(estimator=Pipeline(steps=[(&#x27;reduce_dim&#x27;, PCA()), (&#x27;clf&#x27;, SVC())]),\n",
    "             param_grid={&#x27;clf__C&#x27;: [0.1, 10, 100],\n",
    "                         &#x27;reduce_dim__n_components&#x27;: [2, 5, 10]})</pre><b>Please rerun this cell to show the HTML repr or trust the notebook.</b></div><div class=\"sk-container\" hidden><div class=\"sk-item sk-dashed-wrapped\"><div class=\"sk-label-container\"><div class=\"sk-label sk-toggleable\"><input class=\"sk-toggleable__control sk-hidden--visually\" id=\"ee17181e-24be-4192-ac6d-0134024820a3\" type=\"checkbox\" ><label for=\"ee17181e-24be-4192-ac6d-0134024820a3\" class=\"sk-toggleable__label sk-toggleable__label-arrow\">GridSearchCV</label><div class=\"sk-toggleable__content\"><pre>GridSearchCV(estimator=Pipeline(steps=[(&#x27;reduce_dim&#x27;, PCA()), (&#x27;clf&#x27;, SVC())]),\n",
    "             param_grid={&#x27;clf__C&#x27;: [0.1, 10, 100],\n",
    "                         &#x27;reduce_dim__n_components&#x27;: [2, 5, 10]})</pre></div></div></div><div class=\"sk-parallel\"><div class=\"sk-parallel-item\"><div class=\"sk-item\"><div class=\"sk-serial\"><div class=\"sk-item\"><div class=\"sk-serial\"><div class=\"sk-item\"><div class=\"sk-estimator sk-toggleable\"><input class=\"sk-toggleable__control sk-hidden--visually\" id=\"785322c5-f205-45dd-853e-4bffc37f9cc8\" type=\"checkbox\" ><label for=\"785322c5-f205-45dd-853e-4bffc37f9cc8\" class=\"sk-toggleable__label sk-toggleable__label-arrow\">PCA</label><div class=\"sk-toggleable__content\"><pre>PCA()</pre></div></div></div><div class=\"sk-item\"><div class=\"sk-estimator sk-toggleable\"><input class=\"sk-toggleable__control sk-hidden--visually\" id=\"63b49964-a89d-48ec-a4a2-9c89a8d3baf0\" type=\"checkbox\" ><label for=\"63b49964-a89d-48ec-a4a2-9c89a8d3baf0\" class=\"sk-toggleable__label sk-toggleable__label-arrow\">SVC</label><div class=\"sk-toggleable__content\"><pre>SVC()</pre></div></div></div></div></div></div></div></div></div></div></div></div>\n",
    "\n",
    "{{< /rawhtml >}}"
   ]
  },
  {
   "cell_type": "markdown",
   "id": "22b1c6da",
   "metadata": {},
   "source": [
    "## Données utilisées\n",
    "\n",
    "Nous allons utiliser les données de transactions immobilières DVF pour chercher\n",
    "la meilleure manière de prédire, sachant les caractéristiques d'un bien, son\n",
    "prix.\n",
    "\n",
    "Ces données peuvent être importées directement depuis [`data.gouv`](https://www.data.gouv.fr/fr/datasets/demandes-de-valeurs-foncieres/):\n"
   ]
  },
  {
   "cell_type": "code",
   "execution_count": null,
   "id": "771d3870",
   "metadata": {},
   "outputs": [],
   "source": [
    "import numpy as np\n",
    "import pandas as pd\n",
    "import seaborn as sns\n",
    "import matplotlib.pyplot as plt\n",
    "\n",
    "mutations = pd.read_csv('https://www.data.gouv.fr/fr/datasets/r/3004168d-bec4-44d9-a781-ef16f41856a2', sep = \"|\", decimal=\",\")"
   ]
  },
  {
   "cell_type": "markdown",
   "id": "3a59512e",
   "metadata": {},
   "source": [
    "```\n",
    "## sys:1: DtypeWarning: Columns (18,23,24,26,28,41) have mixed types.Specify dtype option on import or set low_memory=False.\n",
    "```\n",
    "\n",
    "On propose d'enrichir la base de quelques variables qui pourraient servir\n",
    "ultérieurement:\n"
   ]
  },
  {
   "cell_type": "code",
   "execution_count": null,
   "id": "0f9abf15",
   "metadata": {},
   "outputs": [],
   "source": [
    "mutations['Date mutation'] = pd.to_datetime(mutations['Date mutation'], format = \"%d/%m/%Y\")\n",
    "mutations['year'] = mutations['Date mutation'].dt.year\n",
    "mutations['month'] = mutations['Date mutation'].dt.month\n",
    "mutations['dep'] = mutations['Code postal'].astype(str).str[:2]\n",
    "mutations['lprix'] = np.log(mutations[\"Valeur fonciere\"])"
   ]
  },
  {
   "cell_type": "markdown",
   "id": "94da063e",
   "metadata": {},
   "source": [
    "Si vous travaillez avec les données de 2020, n'oubliez pas\n",
    "d'intégrer l'effet\n",
    "confinement strict dans vos modèles. Pour cela, vous pouvez créer une variable\n",
    "indicatrice entre les dates en question:\n"
   ]
  },
  {
   "cell_type": "code",
   "execution_count": null,
   "id": "a554b944",
   "metadata": {},
   "outputs": [],
   "source": [
    "mutations['confinement'] = mutations['Date mutation'].between(pd.to_datetime(\"2020-03-17\"), pd.to_datetime(\"2020-05-03\")).astype(int)"
   ]
  },
  {
   "cell_type": "markdown",
   "id": "23bf7e83",
   "metadata": {},
   "source": [
    "Les données DVF proposent une observation par transaction. Ces transactions\n",
    "peuvent concerner plusieurs lots.\n",
    "Pour simplifier,\n",
    "on va créer une variable de surface qui agrège les différentes informations\n",
    "de surface disponibles dans le jeu de données. En effet, les variables\n",
    "en question sont très corrélées les unes entre elles :\n"
   ]
  },
  {
   "cell_type": "code",
   "execution_count": null,
   "id": "ccfeaeea",
   "metadata": {
    "lines_to_next_cell": 2
   },
   "outputs": [],
   "source": [
    "corr = mutations.loc[:, mutations.columns[mutations.columns.str.startswith('Surface Carrez')].tolist()].corr()\n",
    "fig, ax = plt.subplots(1)\n",
    "sns.heatmap(corr, ax=ax, \n",
    "            xticklabels=corr.columns.values,\n",
    "            yticklabels=corr.columns.values, cmap='coolwarm', annot=True, fmt=\".2f\")\n",
    "plt.savefig('correlation_matrix_dvf.png', bbox_inches='tight')"
   ]
  },
  {
   "cell_type": "markdown",
   "id": "e4bcb64e",
   "metadata": {},
   "source": [
    "{{<figure src=\"../course/modelisation/correlation_matrix_dvf.png\" >}}\n"
   ]
  },
  {
   "cell_type": "markdown",
   "id": "45475da8",
   "metadata": {},
   "source": [
    "Les agréger revient à supposer que le modèle de fixation des prix est le même\n",
    "entre chaque lot. C'est une hypothèse simplificatrice qu'une personne plus \n",
    "experte du marché immobilier, ou qu'une approche propre de sélection\n",
    "de variable pourrait amener à nier \n"
   ]
  },
  {
   "cell_type": "code",
   "execution_count": null,
   "id": "3af9644f",
   "metadata": {
    "lines_to_next_cell": 0
   },
   "outputs": [],
   "source": [
    "mutations['surface'] = mutations.loc[:, mutations.columns[mutations.columns.str.startswith('Surface Carrez')].tolist()].sum(axis = 1)"
   ]
  },
  {
   "cell_type": "markdown",
   "id": "67b96d7d",
   "metadata": {},
   "source": []
  },
  {
   "cell_type": "markdown",
   "id": "38855408",
   "metadata": {},
   "source": [
    "# Un premier pipeline: *random forest* sur des variables standardisées\n",
    "\n",
    "Notre premier *pipeline* va nous permettre d'intégrer ensemble:\n",
    "\n",
    "1. Une étape de *preprocessing* avec la standardisation de variables\n",
    "2. Une étape d'estimation du prix en utilisant un modèle de *random forest*\n",
    "\n",
    "Pour le moment, on va prendre comme acquis un certain nombre de variables\n",
    "explicatives (les *features*) et les hyperparamètres du modèle"
   ]
  },
  {
   "cell_type": "markdown",
   "id": "5937c3da",
   "metadata": {},
   "source": [
    "## Définition des ensembles train/test\n",
    "\n",
    "Nous allons donc nous restreindre à un sous-ensemble de colonnes dans un\n",
    "premier temps :\n"
   ]
  },
  {
   "cell_type": "code",
   "execution_count": null,
   "id": "62c4b2f2",
   "metadata": {},
   "outputs": [],
   "source": [
    "xvars = ['dep', 'Nombre de lots', 'Code type local', 'surface', 'Nombre pieces principales']\n",
    "xvars2 = pd.Series(xvars).str.replace(\" \",\"_\").tolist()\n",
    "\n",
    "mutations2 = mutations.loc[:, xvars + [\"Valeur fonciere\"]]"
   ]
  },
  {
   "cell_type": "markdown",
   "id": "86da995c",
   "metadata": {},
   "source": [
    "Nous allons également ne conserver que les transactions inférieures à 5 millions\n",
    "d'euros (on anticipe que celles ayant un montant supérieur sont des transactions\n",
    "exceptionnelles dont le mécanisme de fixation du prix diffère)\n"
   ]
  },
  {
   "cell_type": "code",
   "execution_count": null,
   "id": "20ec4d63",
   "metadata": {},
   "outputs": [],
   "source": [
    "mutations2  = mutations2.dropna()\n",
    "mutations2 = mutations2.loc[mutations2['Valeur fonciere'] < 5e6] #keep only values below 10 millions\n",
    "\n",
    "mutations2.columns = mutations2.columns.str.replace(\" \", \"_\")\n",
    "numeric_features = mutations2.columns[~mutations2.columns.isin(['dep','Code_type_local', 'confinement'])].tolist()\n",
    "categorical_features = ['dep','Code_type_local']"
   ]
  },
  {
   "cell_type": "markdown",
   "id": "e2da0027",
   "metadata": {},
   "source": [
    "Au passage, nous avons abandonné la variable de code postal pour privilégier\n",
    "la commune afin de réduire la dimension de notre jeu de données. Si on voulait\n",
    "vraiment avoir un bon modèle, il faudrait faire autrement car le code postal\n",
    "est probablement un très bon prédicteur du prix d'un bien, une fois que\n",
    "les caractéristiques du bien sont contrôlées.\n",
    "\n",
    "Nous allons stratifier notre échantillonage de train/test par département\n",
    "afin de tenir compte, de manière minimale, de la géographie. \n",
    "Pour accélérer les calculs pour ce tutoriel, nous n'allons considérer que\n",
    "20% des transactions observées sur chaque département.\n"
   ]
  },
  {
   "cell_type": "code",
   "execution_count": null,
   "id": "05f830ad",
   "metadata": {
    "lines_to_next_cell": 2
   },
   "outputs": [],
   "source": [
    "from sklearn.model_selection import train_test_split\n",
    "\n",
    "mutations2 = mutations2.groupby('dep').sample(frac = 0.2, random_state = 123)\n",
    "\n",
    "X_train, X_test, y_train, y_test = train_test_split(mutations2[xvars2], mutations2[[\"Valeur_fonciere\"]].values.ravel(), test_size = 0.2, random_state = 0, stratify=mutations2[['dep']])"
   ]
  },
  {
   "cell_type": "markdown",
   "id": "d52fa117",
   "metadata": {},
   "source": [
    "## Définition du premier pipeline\n",
    "\n",
    "Nous allons donc partir d'un *random forest* avec des valeurs d'hyperparamètres\n",
    "données. \n",
    "\n",
    "Les _random forest_ sont une méthode d'aggrégation[^2] d'arbres de décision. \n",
    "On calcule $K$ arbres de décision et en tire, par une méthode d'agrégation,\n",
    "une règle de décision moyenne qu'on va appliquer pour tirer une\n",
    "prédiction de nos données. \n",
    "\n",
    "[^2]: En _machine learning_ on retrouve un principe inspiré du\n",
    "_bootstrap_\n",
    "qui permet d'agréger un ensemble d'estimateurs en un estimateur _\"moyennisé\"_.\n",
    "Il s'agit du [*bagging*](https://en.wikipedia.org/wiki/Bootstrap_aggregating).\n",
    "En économétrie, le _bootstrap_ consiste à ré-estimer sur *K* sous-échantillons\n",
    "aléatoires des données un estimateur afin d'en tirer, par exemple, un intervalle\n",
    "de confiance empirique à 95%. Le principe du _bagging_ est le même. On ré-estime\n",
    "_K_ fois notre estimateur (par exemple un arbre de décision) et propose une \n",
    "règle d'agrégation pour en tirer une règle moyennisée et donc une prédiction. "
   ]
  },
  {
   "cell_type": "markdown",
   "id": "9a154504",
   "metadata": {},
   "source": [
    "![](https://upload.wikimedia.org/wikipedia/commons/7/76/Random_forest_diagram_complete.png)\n",
    "\n",
    "C'est un article de Léo Breiman (2001)[^3], statisticien à Berkeley, qui\n",
    "est à l'origine du succès des *random forests*. L'un des intérêts\n",
    "des *random forest* est qu'il existe des méthodes pour déterminer \n",
    "l'importance relative de chaque variable dans la prédiction. \n",
    "\n",
    "[^3]: Breiman L (2001). _\"Random Forests\". Machine Learning_. 45 (1): 5–32.\n",
    "\n",
    "Pour commencer, nous allons fixer la taille des arbres de décision avec\n",
    "l'hyperparamètre `max_depth = 2`. \n"
   ]
  },
  {
   "cell_type": "code",
   "execution_count": null,
   "id": "03a787b5",
   "metadata": {},
   "outputs": [],
   "source": [
    "from sklearn.ensemble import RandomForestRegressor\n",
    "regr = RandomForestRegressor(max_depth=2, random_state=123)"
   ]
  },
  {
   "cell_type": "markdown",
   "id": "07eaa69e",
   "metadata": {},
   "source": [
    "Notre _pipeline_ va intégrer les étapes suivantes:\n",
    "\n",
    "1. __Preprocessing__:\n",
    "    + Les variables numériques vont être standardisées avec un `StandardScaler`.\n",
    "Pour cela, nous allons utiliser la liste `numeric_features` définie précédemment.\n",
    "    + Les variables catégorielles vont être explosées avec un *one hot encoding*\n",
    "(méthode `OneHotEncoder` de `scikit`)\n",
    "Pour cela, nous allons utiliser la liste `categorical_features`\n",
    "2. __Random forest__: nous allons appliquer l'estimateur `regr` défini plus haut\n",
    "\n",
    "J'ajoute en commentaire un exemple de comment s'introduirait une imputation\n",
    "de valeurs manquantes. La version 1.0 de `scikit` facilite l'intégration\n",
    "d'étapes complexes dans les pipelines[^4]. Si vous ne utilisez une \n",
    "version antérieure à la 1.0 de `scikit`, vous pouvez vous rendre dans\n",
    "la section [Annexe](#annexe) pour avoir des exemples de définition alternative\n",
    "(attention cependant, vous ne pourrez récupérer le nom des *features*\n",
    "transformées comme ici, ce qui peut pénaliser l'analyse d'importance\n",
    "de variables)\n",
    "\n",
    "[^4]: Voir ce [*thread stackoverflow*](https://stackoverflow.com/questions/54646709/sklearn-pipeline-get-feature-names-after-onehotencode-in-columntransformer)\n",
    "\n"
   ]
  },
  {
   "cell_type": "code",
   "execution_count": null,
   "id": "08cbceb0",
   "metadata": {
    "lines_to_next_cell": 2
   },
   "outputs": [],
   "source": [
    "from sklearn.pipeline import make_pipeline\n",
    "from sklearn.preprocessing import StandardScaler, OneHotEncoder\n",
    "from sklearn.pipeline import Pipeline\n",
    "from sklearn.compose import make_column_transformer\n",
    "\n",
    "numeric_pipeline = make_pipeline(\n",
    "  #SimpleImputer(),\n",
    "  StandardScaler()\n",
    ")\n",
    "transformer = make_column_transformer(\n",
    "    (numeric_pipeline, numeric_features[:-1]),\n",
    "    (OneHotEncoder(sparse = False, handle_unknown = \"ignore\"), categorical_features))\n",
    "pipe = Pipeline(steps=[('preprocessor', transformer),\n",
    "                      ('randomforest', regr)])"
   ]
  },
  {
   "cell_type": "markdown",
   "id": "031efb14",
   "metadata": {},
   "source": [
    "Nous avons construit ce pipeline sous forme de couches successives. La couche\n",
    "`randomforest` prendra automatiquement le résultat de la couche `preprocessor`\n",
    "en _input_. La couche `features` permet d'introduire de manière relativement\n",
    "simple (quand on a les bonnes méthodes) la complexité du *preprocessing*\n",
    "sur données réelles dont les types divergent. \n",
    "\n",
    "On peut visualiser le graphe et ainsi se représenter la manière dont\n",
    "ce _pipeline_ opère:\n"
   ]
  },
  {
   "cell_type": "code",
   "execution_count": null,
   "id": "41f12275",
   "metadata": {},
   "outputs": [],
   "source": [
    "pipe"
   ]
  },
  {
   "cell_type": "markdown",
   "id": "3bc1face",
   "metadata": {},
   "source": [
    "{{< rawhtml >}}\n",
    "\n",
    "<style>#sk-62926108-a92b-4116-b887-87caa9b25947 {color: black;background-color: white;}#sk-62926108-a92b-4116-b887-87caa9b25947 pre{padding: 0;}#sk-62926108-a92b-4116-b887-87caa9b25947 div.sk-toggleable {background-color: white;}#sk-62926108-a92b-4116-b887-87caa9b25947 label.sk-toggleable__label {cursor: pointer;display: block;width: 100%;margin-bottom: 0;padding: 0.3em;box-sizing: border-box;text-align: center;}#sk-62926108-a92b-4116-b887-87caa9b25947 label.sk-toggleable__label-arrow:before {content: \"▸\";float: left;margin-right: 0.25em;color: #696969;}#sk-62926108-a92b-4116-b887-87caa9b25947 label.sk-toggleable__label-arrow:hover:before {color: black;}#sk-62926108-a92b-4116-b887-87caa9b25947 div.sk-estimator:hover label.sk-toggleable__label-arrow:before {color: black;}#sk-62926108-a92b-4116-b887-87caa9b25947 div.sk-toggleable__content {max-height: 0;max-width: 0;overflow: hidden;text-align: left;background-color: #f0f8ff;}#sk-62926108-a92b-4116-b887-87caa9b25947 div.sk-toggleable__content pre {margin: 0.2em;color: black;border-radius: 0.25em;background-color: #f0f8ff;}#sk-62926108-a92b-4116-b887-87caa9b25947 input.sk-toggleable__control:checked~div.sk-toggleable__content {max-height: 200px;max-width: 100%;overflow: auto;}#sk-62926108-a92b-4116-b887-87caa9b25947 input.sk-toggleable__control:checked~label.sk-toggleable__label-arrow:before {content: \"▾\";}#sk-62926108-a92b-4116-b887-87caa9b25947 div.sk-estimator input.sk-toggleable__control:checked~label.sk-toggleable__label {background-color: #d4ebff;}#sk-62926108-a92b-4116-b887-87caa9b25947 div.sk-label input.sk-toggleable__control:checked~label.sk-toggleable__label {background-color: #d4ebff;}#sk-62926108-a92b-4116-b887-87caa9b25947 input.sk-hidden--visually {border: 0;clip: rect(1px 1px 1px 1px);clip: rect(1px, 1px, 1px, 1px);height: 1px;margin: -1px;overflow: hidden;padding: 0;position: absolute;width: 1px;}#sk-62926108-a92b-4116-b887-87caa9b25947 div.sk-estimator {font-family: monospace;background-color: #f0f8ff;border: 1px dotted black;border-radius: 0.25em;box-sizing: border-box;margin-bottom: 0.5em;}#sk-62926108-a92b-4116-b887-87caa9b25947 div.sk-estimator:hover {background-color: #d4ebff;}#sk-62926108-a92b-4116-b887-87caa9b25947 div.sk-parallel-item::after {content: \"\";width: 100%;border-bottom: 1px solid gray;flex-grow: 1;}#sk-62926108-a92b-4116-b887-87caa9b25947 div.sk-label:hover label.sk-toggleable__label {background-color: #d4ebff;}#sk-62926108-a92b-4116-b887-87caa9b25947 div.sk-serial::before {content: \"\";position: absolute;border-left: 1px solid gray;box-sizing: border-box;top: 2em;bottom: 0;left: 50%;}#sk-62926108-a92b-4116-b887-87caa9b25947 div.sk-serial {display: flex;flex-direction: column;align-items: center;background-color: white;padding-right: 0.2em;padding-left: 0.2em;}#sk-62926108-a92b-4116-b887-87caa9b25947 div.sk-item {z-index: 1;}#sk-62926108-a92b-4116-b887-87caa9b25947 div.sk-parallel {display: flex;align-items: stretch;justify-content: center;background-color: white;}#sk-62926108-a92b-4116-b887-87caa9b25947 div.sk-parallel::before {content: \"\";position: absolute;border-left: 1px solid gray;box-sizing: border-box;top: 2em;bottom: 0;left: 50%;}#sk-62926108-a92b-4116-b887-87caa9b25947 div.sk-parallel-item {display: flex;flex-direction: column;position: relative;background-color: white;}#sk-62926108-a92b-4116-b887-87caa9b25947 div.sk-parallel-item:first-child::after {align-self: flex-end;width: 50%;}#sk-62926108-a92b-4116-b887-87caa9b25947 div.sk-parallel-item:last-child::after {align-self: flex-start;width: 50%;}#sk-62926108-a92b-4116-b887-87caa9b25947 div.sk-parallel-item:only-child::after {width: 0;}#sk-62926108-a92b-4116-b887-87caa9b25947 div.sk-dashed-wrapped {border: 1px dashed gray;margin: 0 0.4em 0.5em 0.4em;box-sizing: border-box;padding-bottom: 0.4em;background-color: white;position: relative;}#sk-62926108-a92b-4116-b887-87caa9b25947 div.sk-label label {font-family: monospace;font-weight: bold;background-color: white;display: inline-block;line-height: 1.2em;}#sk-62926108-a92b-4116-b887-87caa9b25947 div.sk-label-container {position: relative;z-index: 2;text-align: center;}#sk-62926108-a92b-4116-b887-87caa9b25947 div.sk-container {/* jupyter's `normalize.less` sets `[hidden] { display: none; }` but bootstrap.min.css set `[hidden] { display: none !important; }` so we also need the `!important` here to be able to override the default hidden behavior on the sphinx rendered scikit-learn.org. See: https://github.com/scikit-learn/scikit-learn/issues/21755 */display: inline-block !important;position: relative;}#sk-62926108-a92b-4116-b887-87caa9b25947 div.sk-text-repr-fallback {display: none;}</style><div id=\"sk-62926108-a92b-4116-b887-87caa9b25947\" class=\"sk-top-container\"><div class=\"sk-text-repr-fallback\"><pre>Pipeline(steps=[(&#x27;preprocessor&#x27;,\n",
    "                 ColumnTransformer(transformers=[(&#x27;pipeline&#x27;,\n",
    "                                                  Pipeline(steps=[(&#x27;standardscaler&#x27;,\n",
    "                                                                   StandardScaler())]),\n",
    "                                                  [&#x27;Nombre_de_lots&#x27;, &#x27;surface&#x27;,\n",
    "                                                   &#x27;Nombre_pieces_principales&#x27;]),\n",
    "                                                 (&#x27;onehotencoder&#x27;,\n",
    "                                                  OneHotEncoder(handle_unknown=&#x27;ignore&#x27;,\n",
    "                                                                sparse=False),\n",
    "                                                  [&#x27;dep&#x27;,\n",
    "                                                   &#x27;Code_type_local&#x27;])])),\n",
    "                (&#x27;randomforest&#x27;,\n",
    "                 RandomForestRegressor(max_depth=2, random_state=123))])</pre><b>Please rerun this cell to show the HTML repr or trust the notebook.</b></div><div class=\"sk-container\" hidden><div class=\"sk-item sk-dashed-wrapped\"><div class=\"sk-label-container\"><div class=\"sk-label sk-toggleable\"><input class=\"sk-toggleable__control sk-hidden--visually\" id=\"ae563cfd-719b-49e2-9333-e97d38e2b9cd\" type=\"checkbox\" ><label for=\"ae563cfd-719b-49e2-9333-e97d38e2b9cd\" class=\"sk-toggleable__label sk-toggleable__label-arrow\">Pipeline</label><div class=\"sk-toggleable__content\"><pre>Pipeline(steps=[(&#x27;preprocessor&#x27;,\n",
    "                 ColumnTransformer(transformers=[(&#x27;pipeline&#x27;,\n",
    "                                                  Pipeline(steps=[(&#x27;standardscaler&#x27;,\n",
    "                                                                   StandardScaler())]),\n",
    "                                                  [&#x27;Nombre_de_lots&#x27;, &#x27;surface&#x27;,\n",
    "                                                   &#x27;Nombre_pieces_principales&#x27;]),\n",
    "                                                 (&#x27;onehotencoder&#x27;,\n",
    "                                                  OneHotEncoder(handle_unknown=&#x27;ignore&#x27;,\n",
    "                                                                sparse=False),\n",
    "                                                  [&#x27;dep&#x27;,\n",
    "                                                   &#x27;Code_type_local&#x27;])])),\n",
    "                (&#x27;randomforest&#x27;,\n",
    "                 RandomForestRegressor(max_depth=2, random_state=123))])</pre></div></div></div><div class=\"sk-serial\"><div class=\"sk-item sk-dashed-wrapped\"><div class=\"sk-label-container\"><div class=\"sk-label sk-toggleable\"><input class=\"sk-toggleable__control sk-hidden--visually\" id=\"34f1698c-37e8-47ac-900f-08726d2b88ea\" type=\"checkbox\" ><label for=\"34f1698c-37e8-47ac-900f-08726d2b88ea\" class=\"sk-toggleable__label sk-toggleable__label-arrow\">preprocessor: ColumnTransformer</label><div class=\"sk-toggleable__content\"><pre>ColumnTransformer(transformers=[(&#x27;pipeline&#x27;,\n",
    "                                 Pipeline(steps=[(&#x27;standardscaler&#x27;,\n",
    "                                                  StandardScaler())]),\n",
    "                                 [&#x27;Nombre_de_lots&#x27;, &#x27;surface&#x27;,\n",
    "                                  &#x27;Nombre_pieces_principales&#x27;]),\n",
    "                                (&#x27;onehotencoder&#x27;,\n",
    "                                 OneHotEncoder(handle_unknown=&#x27;ignore&#x27;,\n",
    "                                               sparse=False),\n",
    "                                 [&#x27;dep&#x27;, &#x27;Code_type_local&#x27;])])</pre></div></div></div><div class=\"sk-parallel\"><div class=\"sk-parallel-item\"><div class=\"sk-item\"><div class=\"sk-label-container\"><div class=\"sk-label sk-toggleable\"><input class=\"sk-toggleable__control sk-hidden--visually\" id=\"4e7c9d54-b371-4348-89d4-576e55fbbcbd\" type=\"checkbox\" ><label for=\"4e7c9d54-b371-4348-89d4-576e55fbbcbd\" class=\"sk-toggleable__label sk-toggleable__label-arrow\">pipeline</label><div class=\"sk-toggleable__content\"><pre>[&#x27;Nombre_de_lots&#x27;, &#x27;surface&#x27;, &#x27;Nombre_pieces_principales&#x27;]</pre></div></div></div><div class=\"sk-serial\"><div class=\"sk-item\"><div class=\"sk-serial\"><div class=\"sk-item\"><div class=\"sk-estimator sk-toggleable\"><input class=\"sk-toggleable__control sk-hidden--visually\" id=\"ea098f0b-5f43-4f0c-b3a8-f7fe05ca5de7\" type=\"checkbox\" ><label for=\"ea098f0b-5f43-4f0c-b3a8-f7fe05ca5de7\" class=\"sk-toggleable__label sk-toggleable__label-arrow\">StandardScaler</label><div class=\"sk-toggleable__content\"><pre>StandardScaler()</pre></div></div></div></div></div></div></div></div><div class=\"sk-parallel-item\"><div class=\"sk-item\"><div class=\"sk-label-container\"><div class=\"sk-label sk-toggleable\"><input class=\"sk-toggleable__control sk-hidden--visually\" id=\"49bdf523-1154-48bb-a5a2-2b2a114bb5b7\" type=\"checkbox\" ><label for=\"49bdf523-1154-48bb-a5a2-2b2a114bb5b7\" class=\"sk-toggleable__label sk-toggleable__label-arrow\">onehotencoder</label><div class=\"sk-toggleable__content\"><pre>[&#x27;dep&#x27;, &#x27;Code_type_local&#x27;]</pre></div></div></div><div class=\"sk-serial\"><div class=\"sk-item\"><div class=\"sk-estimator sk-toggleable\"><input class=\"sk-toggleable__control sk-hidden--visually\" id=\"3a7a0871-0f0f-438f-9406-bcbf9453c2bc\" type=\"checkbox\" ><label for=\"3a7a0871-0f0f-438f-9406-bcbf9453c2bc\" class=\"sk-toggleable__label sk-toggleable__label-arrow\">OneHotEncoder</label><div class=\"sk-toggleable__content\"><pre>OneHotEncoder(handle_unknown=&#x27;ignore&#x27;, sparse=False)</pre></div></div></div></div></div></div></div></div><div class=\"sk-item\"><div class=\"sk-estimator sk-toggleable\"><input class=\"sk-toggleable__control sk-hidden--visually\" id=\"3a476af8-e357-4632-8803-3ce02575517f\" type=\"checkbox\" ><label for=\"3a476af8-e357-4632-8803-3ce02575517f\" class=\"sk-toggleable__label sk-toggleable__label-arrow\">RandomForestRegressor</label><div class=\"sk-toggleable__content\"><pre>RandomForestRegressor(max_depth=2, random_state=123)</pre></div></div></div></div></div></div></div>\n",
    "\n",
    "{{< /rawhtml >}}"
   ]
  },
  {
   "cell_type": "markdown",
   "id": "572dc91a",
   "metadata": {},
   "source": [
    "Maintenant, il ne reste plus qu'à estimer notre modèle sur l'ensemble\n",
    "d'entraînement. C'est très simple avec un _pipeline_ : il suffit d'utiliser\n",
    "de mettre à jour le _pipeline_ avec la méthode `fit`\n"
   ]
  },
  {
   "cell_type": "code",
   "execution_count": null,
   "id": "3dd2cb74",
   "metadata": {},
   "outputs": [],
   "source": [
    "pipe.fit(X_train, y_train)"
   ]
  },
  {
   "cell_type": "markdown",
   "id": "c7dee917",
   "metadata": {},
   "source": [
    "On peut utiliser le nom du pipeline en conjonction de certaines méthodes\n",
    "pour appliquer cette étape sur un jeu de données pour visualiser\n",
    "l'effet de la transformation.\n",
    "\n",
    "Par exemple, pour visualiser le jeu de données transformé avant l'étape\n",
    "d'estimation, on peut \n",
    "faire\n"
   ]
  },
  {
   "cell_type": "code",
   "execution_count": null,
   "id": "7c758d48",
   "metadata": {},
   "outputs": [],
   "source": [
    "pipe[:-1].fit_transform(X_train)"
   ]
  },
  {
   "cell_type": "markdown",
   "id": "31ee3dec",
   "metadata": {},
   "source": [
    "```\n",
    "## array([[ 0.36941323,  0.46064357, -0.66948062, ...,  1.        ,\n",
    "##          0.        ,  0.        ],\n",
    "##        [-0.70954963, -0.27593152,  0.29189439, ...,  0.        ,\n",
    "##          0.        ,  0.        ],\n",
    "##        [ 0.36941323, -0.27593152, -1.15016813, ...,  0.        ,\n",
    "##          1.        ,  0.        ],\n",
    "##        ...,\n",
    "##        [-0.70954963, -0.27593152,  0.7725819 , ...,  0.        ,\n",
    "##          0.        ,  0.        ],\n",
    "##        [ 0.36941323, -0.27593152,  0.7725819 , ...,  1.        ,\n",
    "##          0.        ,  0.        ],\n",
    "##        [-0.70954963, -0.27593152, -1.15016813, ...,  0.        ,\n",
    "##          0.        ,  1.        ]])\n",
    "```\n",
    "\n",
    "De même, si on veut récupérer le nom des *features* en sortie du preprocessing,\n",
    "on utilisera la méthode `.get_feature_names_out` qui est bien pratique\n",
    "(c'est cette méthode qui est plus complexe à appeler dans les versions `scikit`\n",
    "ancienne qui nous a fait privilégier le *pipeline* ci-dessous)\n"
   ]
  },
  {
   "cell_type": "code",
   "execution_count": null,
   "id": "76aa211a",
   "metadata": {},
   "outputs": [],
   "source": [
    "features_names=pipe['preprocessor'].get_feature_names_out()\n",
    "features_names"
   ]
  },
  {
   "cell_type": "markdown",
   "id": "14c577ed",
   "metadata": {},
   "source": [
    "```\n",
    "## array(['pipeline__Nombre_de_lots', 'pipeline__surface',\n",
    "##        'pipeline__Nombre_pieces_principales', 'onehotencoder__dep_10',\n",
    "##        'onehotencoder__dep_11', 'onehotencoder__dep_12',\n",
    "##        'onehotencoder__dep_13', 'onehotencoder__dep_14',\n",
    "##        'onehotencoder__dep_15', 'onehotencoder__dep_16',\n",
    "##        'onehotencoder__dep_17', 'onehotencoder__dep_18',\n",
    "##        'onehotencoder__dep_19', 'onehotencoder__dep_20',\n",
    "##        'onehotencoder__dep_21', 'onehotencoder__dep_22',\n",
    "##        'onehotencoder__dep_23', 'onehotencoder__dep_24',\n",
    "##        'onehotencoder__dep_25', 'onehotencoder__dep_26',\n",
    "##        'onehotencoder__dep_27', 'onehotencoder__dep_28',\n",
    "##        'onehotencoder__dep_29', 'onehotencoder__dep_30',\n",
    "##        'onehotencoder__dep_31', 'onehotencoder__dep_32',\n",
    "##        'onehotencoder__dep_33', 'onehotencoder__dep_34',\n",
    "##        'onehotencoder__dep_35', 'onehotencoder__dep_36',\n",
    "##        'onehotencoder__dep_37', 'onehotencoder__dep_38',\n",
    "##        'onehotencoder__dep_39', 'onehotencoder__dep_40',\n",
    "##        'onehotencoder__dep_41', 'onehotencoder__dep_42',\n",
    "##        'onehotencoder__dep_43', 'onehotencoder__dep_44',\n",
    "##        'onehotencoder__dep_45', 'onehotencoder__dep_46',\n",
    "##        'onehotencoder__dep_47', 'onehotencoder__dep_48',\n",
    "##        'onehotencoder__dep_49', 'onehotencoder__dep_50',\n",
    "##        'onehotencoder__dep_51', 'onehotencoder__dep_52',\n",
    "##        'onehotencoder__dep_53', 'onehotencoder__dep_54',\n",
    "##        'onehotencoder__dep_55', 'onehotencoder__dep_56',\n",
    "##        'onehotencoder__dep_57', 'onehotencoder__dep_58',\n",
    "##        'onehotencoder__dep_59', 'onehotencoder__dep_60',\n",
    "##        'onehotencoder__dep_61', 'onehotencoder__dep_62',\n",
    "##        'onehotencoder__dep_63', 'onehotencoder__dep_64',\n",
    "##        'onehotencoder__dep_65', 'onehotencoder__dep_66',\n",
    "##        'onehotencoder__dep_67', 'onehotencoder__dep_68',\n",
    "##        'onehotencoder__dep_69', 'onehotencoder__dep_70',\n",
    "##        'onehotencoder__dep_71', 'onehotencoder__dep_72',\n",
    "##        'onehotencoder__dep_73', 'onehotencoder__dep_74',\n",
    "##        'onehotencoder__dep_75', 'onehotencoder__dep_76',\n",
    "##        'onehotencoder__dep_77', 'onehotencoder__dep_78',\n",
    "##        'onehotencoder__dep_79', 'onehotencoder__dep_80',\n",
    "##        'onehotencoder__dep_81', 'onehotencoder__dep_82',\n",
    "##        'onehotencoder__dep_83', 'onehotencoder__dep_84',\n",
    "##        'onehotencoder__dep_85', 'onehotencoder__dep_86',\n",
    "##        'onehotencoder__dep_87', 'onehotencoder__dep_88',\n",
    "##        'onehotencoder__dep_89', 'onehotencoder__dep_90',\n",
    "##        'onehotencoder__dep_91', 'onehotencoder__dep_92',\n",
    "##        'onehotencoder__dep_93', 'onehotencoder__dep_94',\n",
    "##        'onehotencoder__dep_95', 'onehotencoder__dep_96',\n",
    "##        'onehotencoder__dep_97', 'onehotencoder__dep_98',\n",
    "##        'onehotencoder__dep_na', 'onehotencoder__Code_type_local_1.0',\n",
    "##        'onehotencoder__Code_type_local_2.0',\n",
    "##        'onehotencoder__Code_type_local_3.0',\n",
    "##        'onehotencoder__Code_type_local_4.0'], dtype=object)\n",
    "```"
   ]
  },
  {
   "cell_type": "markdown",
   "id": "a4176e3c",
   "metadata": {},
   "source": [
    "## _Variable importance_\n",
    "\n",
    "On ne va représenter, parmi notre ensemble important de colonnes, que celles\n",
    "qui ont une importance non nulle. Grâce à notre vecteur `features_names`,\n",
    "on va pouvoir facilement afficher le nom des colonnes en question (et donc\n",
    "comprendre les *features* déterminantes)\n",
    "\n",
    "L'importance va être définie à partir \n",
    "de la mesure d'impureté[^3]\n",
    "\n",
    "[^3]: Extrait de [ce blog](https://mljar.com/blog/feature-importance-in-random-forest/):\n",
    "Gini importance (or mean decrease impurity), which is computed from the Random Forest structure. Let’s look how the Random Forest is constructed. It is a set of Decision Trees. Each Decision Tree is a set of internal nodes and leaves. In the internal node, the selected feature is used to make decision how to divide the data set into two separate sets with similars responses within. The features for internal nodes are selected with some criterion, which for classification tasks can be gini impurity or infomation gain, and for regression is variance reduction. We can measure how each feature decrease the impurity of the split (the feature with highest decrease is selected for internal node). For each feature we can collect how on average it decreases the impurity. The average over all trees in the forest is the measure of the feature importance. \n"
   ]
  },
  {
   "cell_type": "code",
   "execution_count": null,
   "id": "54504b4d",
   "metadata": {
    "lines_to_next_cell": 0
   },
   "outputs": [],
   "source": [
    "importances = pipe['randomforest'].feature_importances_\n",
    "std = np.std([tree.feature_importances_ for tree in pipe['randomforest'].estimators_], axis=0)\n",
    "\n",
    "forest_importances = pd.Series(importances[importances>0], index=features_names[importances>0])\n",
    "\n",
    "fig, ax = plt.subplots()\n",
    "forest_importances.plot.bar(yerr=std[importances>0], ax=ax)\n",
    "ax.set_title(\"Feature importances using MDI\")\n",
    "ax.set_ylabel(\"Mean decrease in impurity\")\n",
    "fig.tight_layout()"
   ]
  },
  {
   "cell_type": "markdown",
   "id": "02454c45",
   "metadata": {},
   "source": []
  },
  {
   "cell_type": "markdown",
   "id": "dfe81001",
   "metadata": {},
   "source": [
    "{{<figure src=\"../course/modelisation/varimportance.png\" >}}\n",
    "\n",
    "On voit donc que deux variables déterminantes sont des effets fixes\n",
    "géographiques (qui servent à ajuster de la différence de prix entre\n",
    "Paris et les Hauts de Seine et le reste de la France), une autre variable\n",
    "est un effet fixe type de bien. Les deux variables qui pourraient introduire\n",
    "de la variabilité, à savoir la surface et, dans une moindre mesure, le \n",
    "nombre de lots, ont une importance moindre. "
   ]
  },
  {
   "cell_type": "markdown",
   "id": "c52f766e",
   "metadata": {},
   "source": [
    "{{% panel status=\"note\" title=\"Note\" icon=\"fa fa-comment\" %}}\n",
    "Idéalement, on utiliserait `yellowbrick` pour représenter l'importance des variables\n",
    "Mais en l'état actuel du *pipeline* on a beaucoup de variables dont le poids\n",
    "est nul qui viennent polluer la visualisation. Vous pouvez \n",
    "consulter la\n",
    "[documentation de `yellowbrick` sur ce sujet](https://www.scikit-yb.org/en/latest/api/model_selection/importances.html)\n",
    "{{% /panel %}}"
   ]
  },
  {
   "cell_type": "markdown",
   "id": "9d6c36fe",
   "metadata": {},
   "source": [
    "## Prédiction\n",
    "\n",
    "L'analyse de l'importance de variables permet de mieux comprendre\n",
    "le fonctionnement interne des *random forests*. \n",
    "\n",
    "On obtient un modèle dont les performances sont les suivantes:\n"
   ]
  },
  {
   "cell_type": "code",
   "execution_count": null,
   "id": "44b96751",
   "metadata": {},
   "outputs": [],
   "source": [
    "from sklearn.metrics import mean_squared_error\n",
    "\n",
    "\n",
    "compar = pd.DataFrame([y_test, pipe.predict(X_test)]).T\n",
    "compar.columns = ['obs','pred']\n",
    "compar['diff'] = compar.obs - compar.pred\n",
    "\n",
    "print(\"Le RMSE sur le jeu de test est {:,}\".format(\n",
    "   int(np.sqrt(mean_squared_error(y_test, pipe.predict(X_test))))\n",
    "))"
   ]
  },
  {
   "cell_type": "markdown",
   "id": "578f9f7f",
   "metadata": {},
   "source": [
    "```\n",
    "## Le RMSE sur le jeu de test est 464,464\n",
    "```\n",
    "\n",
    "Le RMSE n'est pas très bon. Pour comprendre pourquoi, représentons\n",
    "notre nuage de point des valeurs observées et prédites:\n"
   ]
  },
  {
   "cell_type": "code",
   "execution_count": null,
   "id": "82019ef9",
   "metadata": {},
   "outputs": [],
   "source": [
    "g = sns.relplot(data = compar, x = 'obs', y = 'pred', color = \"royalblue\", alpha = 0.8)\n",
    "g.set(ylim=(0, 2e6), xlim=(0, 2e6),\n",
    "      title='Evaluating estimation error on test sample',\n",
    "      xlabel='Observed values',\n",
    "      ylabel='Predicted values')"
   ]
  },
  {
   "cell_type": "code",
   "execution_count": null,
   "id": "eda988c5",
   "metadata": {},
   "outputs": [],
   "source": [
    "g.ax.axline(xy1=(0, 0), slope=1, color=\"red\", dashes=(5, 2))\n",
    "plt.savefig('predict1.png', bbox_inches='tight')"
   ]
  },
  {
   "cell_type": "markdown",
   "id": "42a1c1e3",
   "metadata": {},
   "source": [
    "C'est très décevant. La prédiction a trop peu de variabilité pour capturer\n",
    "la variance des prix observée. Cela vient du fait que les variables\n",
    "ayant de l'importance dans la prédiction sont principalement des effets fixes,\n",
    "qui ne permettent donc qu'une variabilité limitée.\n",
    "\n",
    "{{<figure src=\"../course/modelisation/predict1.png\" >}}"
   ]
  },
  {
   "cell_type": "markdown",
   "id": "fd23c67b",
   "metadata": {},
   "source": [
    "# Recherche des hyperparamètres optimaux avec une validation croisée\n",
    "\n",
    "On détecte que le premier modèle n'est pas très bon et ne nous aidera\n",
    "pas vraiment à évaluer de manière fiable la maison de nos rêves. \n",
    "\n",
    "On va essayer de voir si notre modèle ne serait pas meilleur avec des\n",
    "hyperparamètres plus adaptés. Après tout, nous avons choisi par défaut\n",
    "la profondeur de l'arbre mais c'était un choix au doigt mouillé. \n",
    "\n",
    "Quels sont les hyperparamètres qu'on peut essayer d'optimiser ? \n"
   ]
  },
  {
   "cell_type": "code",
   "execution_count": null,
   "id": "6a1cbe19",
   "metadata": {},
   "outputs": [],
   "source": [
    "pipe['randomforest'].get_params()"
   ]
  },
  {
   "cell_type": "markdown",
   "id": "1473a7a2",
   "metadata": {},
   "source": [
    "```\n",
    "## {'bootstrap': True, 'ccp_alpha': 0.0, 'criterion': 'squared_error', 'max_depth': 2, 'max_features': 'auto', 'max_leaf_nodes': None, 'max_samples': None, 'min_impurity_decrease': 0.0, 'min_samples_leaf': 1, 'min_samples_split': 2, 'min_weight_fraction_leaf': 0.0, 'n_estimators': 100, 'n_jobs': None, 'oob_score': False, 'random_state': 123, 'verbose': 0, 'warm_start': False}\n",
    "```\n",
    "\n",
    "Un [détour par la documentation](https://scikit-learn.org/stable/modules/generated/sklearn.ensemble.RandomForestRegressor.html)\n",
    "nous aide à comprendre ceux sur lesquels on va jouer. Par exemple, il serait\n",
    "absurde de jouer sur le paramètre `random_state` qui est la racine du générateur\n",
    "pseudo-aléatoire. \n",
    "\n",
    "Comme l'objectif est de se concentrer sur la démarche plus qu'essayer de\n",
    "trouver un bon modèle,\n",
    "nous allons également réduire la taille des données pour accélérer\n",
    "les calculs\n"
   ]
  },
  {
   "cell_type": "code",
   "execution_count": null,
   "id": "7c6f67cd",
   "metadata": {
    "lines_to_next_cell": 2
   },
   "outputs": [],
   "source": [
    "mutations2 = mutations2.groupby('dep').sample(frac = 0.5, random_state = 123)\n",
    "\n",
    "X_train, X_test, y_train, y_test = train_test_split(mutations2[xvars2], mutations2[[\"Valeur_fonciere\"]].values.ravel(), test_size = 0.2, random_state = 0, stratify=mutations2[['dep']])\n",
    "\n",
    "X = pd.concat((X_train, X_test), axis=0)\n",
    "Y = np.concatenate([y_train,y_test])"
   ]
  },
  {
   "cell_type": "markdown",
   "id": "5701793c",
   "metadata": {},
   "source": [
    "Nous allons nous contenter de jouer sur les paramètres:\n",
    "\n",
    "* `n_estimators`: Le nombre d'arbres de décision que notre forêt contient\n",
    "* `max_depth`: La profondeur de chaque arbre\n",
    "\n",
    "Il existe plusieurs manières de faire de la validation croisée. Nous allons ici\n",
    "utiliser la *grid search* qui consiste à estimer et tester le modèle sur chaque\n",
    "combinaison d'une grille de paramètres et sélectionner le couple de valeurs\n",
    "des hyperparamètres amenant à la meilleure prédiction. Par défaut, `scikit`\n",
    "effectue une _5-fold cross validation_. Nous n'allons pas changer\n",
    "ce comportement. \n",
    "\n",
    "Comme expliqué précédemment, les paramètres s'appelent sous la forme\n",
    "`<step>__<parameter_name>`\n",
    "\n",
    "La validation croisée pouvant être très consommatrice de temps, nous \n",
    "n'allons l'effectuer que sur un nombre réduit de valeurs de notre grille.\n",
    "Il est possible de passer la liste des valeurs à passer au crible sous\n",
    "forme de liste (comme pour l'argument `max_depth` ci-dessous) ou\n",
    "sous forme d'`array` (comme pour l'argument `n_estimators`) ce qui est\n",
    "souvent pratique pour générer un criblage d'un intervalle avec `np.linspace`.\n"
   ]
  },
  {
   "cell_type": "code",
   "execution_count": null,
   "id": "5ee50878",
   "metadata": {},
   "outputs": [],
   "source": [
    "import numpy as np\n",
    "from sklearn.model_selection import GridSearchCV\n",
    "\n",
    "import time\n",
    "\n",
    "start_time = time.time()\n",
    "# Parameters of pipelines can be set using ‘__’ separated parameter names:\n",
    "param_grid = {\n",
    "    \"randomforest__n_estimators\": np.linspace(5,25, 5).astype(int),\n",
    "    \"randomforest__max_depth\": [2,4]\n",
    "}\n",
    "grid_search = GridSearchCV(pipe, param_grid=param_grid)\n",
    "grid_search.fit(X, Y)"
   ]
  },
  {
   "cell_type": "code",
   "execution_count": null,
   "id": "299e2a05",
   "metadata": {},
   "outputs": [],
   "source": [
    "end_time = time.time()\n",
    "print(\"Elapsed time : {} seconds\", int(end_time - start_time))"
   ]
  },
  {
   "cell_type": "markdown",
   "id": "2e99af37",
   "metadata": {},
   "source": [
    "{{< rawhtml >}}\n",
    "\n",
    "<style>#sk-e33fb12c-ccfb-488c-ad34-0800a5a040a7 {color: black;background-color: white;}#sk-e33fb12c-ccfb-488c-ad34-0800a5a040a7 pre{padding: 0;}#sk-e33fb12c-ccfb-488c-ad34-0800a5a040a7 div.sk-toggleable {background-color: white;}#sk-e33fb12c-ccfb-488c-ad34-0800a5a040a7 label.sk-toggleable__label {cursor: pointer;display: block;width: 100%;margin-bottom: 0;padding: 0.3em;box-sizing: border-box;text-align: center;}#sk-e33fb12c-ccfb-488c-ad34-0800a5a040a7 label.sk-toggleable__label-arrow:before {content: \"▸\";float: left;margin-right: 0.25em;color: #696969;}#sk-e33fb12c-ccfb-488c-ad34-0800a5a040a7 label.sk-toggleable__label-arrow:hover:before {color: black;}#sk-e33fb12c-ccfb-488c-ad34-0800a5a040a7 div.sk-estimator:hover label.sk-toggleable__label-arrow:before {color: black;}#sk-e33fb12c-ccfb-488c-ad34-0800a5a040a7 div.sk-toggleable__content {max-height: 0;max-width: 0;overflow: hidden;text-align: left;background-color: #f0f8ff;}#sk-e33fb12c-ccfb-488c-ad34-0800a5a040a7 div.sk-toggleable__content pre {margin: 0.2em;color: black;border-radius: 0.25em;background-color: #f0f8ff;}#sk-e33fb12c-ccfb-488c-ad34-0800a5a040a7 input.sk-toggleable__control:checked~div.sk-toggleable__content {max-height: 200px;max-width: 100%;overflow: auto;}#sk-e33fb12c-ccfb-488c-ad34-0800a5a040a7 input.sk-toggleable__control:checked~label.sk-toggleable__label-arrow:before {content: \"▾\";}#sk-e33fb12c-ccfb-488c-ad34-0800a5a040a7 div.sk-estimator input.sk-toggleable__control:checked~label.sk-toggleable__label {background-color: #d4ebff;}#sk-e33fb12c-ccfb-488c-ad34-0800a5a040a7 div.sk-label input.sk-toggleable__control:checked~label.sk-toggleable__label {background-color: #d4ebff;}#sk-e33fb12c-ccfb-488c-ad34-0800a5a040a7 input.sk-hidden--visually {border: 0;clip: rect(1px 1px 1px 1px);clip: rect(1px, 1px, 1px, 1px);height: 1px;margin: -1px;overflow: hidden;padding: 0;position: absolute;width: 1px;}#sk-e33fb12c-ccfb-488c-ad34-0800a5a040a7 div.sk-estimator {font-family: monospace;background-color: #f0f8ff;border: 1px dotted black;border-radius: 0.25em;box-sizing: border-box;margin-bottom: 0.5em;}#sk-e33fb12c-ccfb-488c-ad34-0800a5a040a7 div.sk-estimator:hover {background-color: #d4ebff;}#sk-e33fb12c-ccfb-488c-ad34-0800a5a040a7 div.sk-parallel-item::after {content: \"\";width: 100%;border-bottom: 1px solid gray;flex-grow: 1;}#sk-e33fb12c-ccfb-488c-ad34-0800a5a040a7 div.sk-label:hover label.sk-toggleable__label {background-color: #d4ebff;}#sk-e33fb12c-ccfb-488c-ad34-0800a5a040a7 div.sk-serial::before {content: \"\";position: absolute;border-left: 1px solid gray;box-sizing: border-box;top: 2em;bottom: 0;left: 50%;}#sk-e33fb12c-ccfb-488c-ad34-0800a5a040a7 div.sk-serial {display: flex;flex-direction: column;align-items: center;background-color: white;padding-right: 0.2em;padding-left: 0.2em;}#sk-e33fb12c-ccfb-488c-ad34-0800a5a040a7 div.sk-item {z-index: 1;}#sk-e33fb12c-ccfb-488c-ad34-0800a5a040a7 div.sk-parallel {display: flex;align-items: stretch;justify-content: center;background-color: white;}#sk-e33fb12c-ccfb-488c-ad34-0800a5a040a7 div.sk-parallel::before {content: \"\";position: absolute;border-left: 1px solid gray;box-sizing: border-box;top: 2em;bottom: 0;left: 50%;}#sk-e33fb12c-ccfb-488c-ad34-0800a5a040a7 div.sk-parallel-item {display: flex;flex-direction: column;position: relative;background-color: white;}#sk-e33fb12c-ccfb-488c-ad34-0800a5a040a7 div.sk-parallel-item:first-child::after {align-self: flex-end;width: 50%;}#sk-e33fb12c-ccfb-488c-ad34-0800a5a040a7 div.sk-parallel-item:last-child::after {align-self: flex-start;width: 50%;}#sk-e33fb12c-ccfb-488c-ad34-0800a5a040a7 div.sk-parallel-item:only-child::after {width: 0;}#sk-e33fb12c-ccfb-488c-ad34-0800a5a040a7 div.sk-dashed-wrapped {border: 1px dashed gray;margin: 0 0.4em 0.5em 0.4em;box-sizing: border-box;padding-bottom: 0.4em;background-color: white;position: relative;}#sk-e33fb12c-ccfb-488c-ad34-0800a5a040a7 div.sk-label label {font-family: monospace;font-weight: bold;background-color: white;display: inline-block;line-height: 1.2em;}#sk-e33fb12c-ccfb-488c-ad34-0800a5a040a7 div.sk-label-container {position: relative;z-index: 2;text-align: center;}#sk-e33fb12c-ccfb-488c-ad34-0800a5a040a7 div.sk-container {/* jupyter's `normalize.less` sets `[hidden] { display: none; }` but bootstrap.min.css set `[hidden] { display: none !important; }` so we also need the `!important` here to be able to override the default hidden behavior on the sphinx rendered scikit-learn.org. See: https://github.com/scikit-learn/scikit-learn/issues/21755 */display: inline-block !important;position: relative;}#sk-e33fb12c-ccfb-488c-ad34-0800a5a040a7 div.sk-text-repr-fallback {display: none;}</style><div id=\"sk-e33fb12c-ccfb-488c-ad34-0800a5a040a7\" class=\"sk-top-container\"><div class=\"sk-text-repr-fallback\"><pre>GridSearchCV(estimator=Pipeline(steps=[(&#x27;preprocessor&#x27;,\n",
    "                                        ColumnTransformer(transformers=[(&#x27;pipeline&#x27;,\n",
    "                                                                         Pipeline(steps=[(&#x27;standardscaler&#x27;,\n",
    "                                                                                          StandardScaler())]),\n",
    "                                                                         [&#x27;Nombre_de_lots&#x27;,\n",
    "                                                                          &#x27;surface&#x27;,\n",
    "                                                                          &#x27;Nombre_pieces_principales&#x27;]),\n",
    "                                                                        (&#x27;onehotencoder&#x27;,\n",
    "                                                                         OneHotEncoder(handle_unknown=&#x27;ignore&#x27;,\n",
    "                                                                                       sparse=False),\n",
    "                                                                         [&#x27;dep&#x27;,\n",
    "                                                                          &#x27;Code_type_local&#x27;])])),\n",
    "                                       (&#x27;randomforest&#x27;,\n",
    "                                        RandomForestRegressor(max_depth=2,\n",
    "                                                              random_state=123))]),\n",
    "             param_grid={&#x27;randomforest__max_depth&#x27;: [2, 4],\n",
    "                         &#x27;randomforest__n_estimators&#x27;: array([ 5, 10, 15, 20, 25])})</pre><b>Please rerun this cell to show the HTML repr or trust the notebook.</b></div><div class=\"sk-container\" hidden><div class=\"sk-item sk-dashed-wrapped\"><div class=\"sk-label-container\"><div class=\"sk-label sk-toggleable\"><input class=\"sk-toggleable__control sk-hidden--visually\" id=\"d1740ff4-ef6c-4166-b42a-61901942c280\" type=\"checkbox\" ><label for=\"d1740ff4-ef6c-4166-b42a-61901942c280\" class=\"sk-toggleable__label sk-toggleable__label-arrow\">GridSearchCV</label><div class=\"sk-toggleable__content\"><pre>GridSearchCV(estimator=Pipeline(steps=[(&#x27;preprocessor&#x27;,\n",
    "                                        ColumnTransformer(transformers=[(&#x27;pipeline&#x27;,\n",
    "                                                                         Pipeline(steps=[(&#x27;standardscaler&#x27;,\n",
    "                                                                                          StandardScaler())]),\n",
    "                                                                         [&#x27;Nombre_de_lots&#x27;,\n",
    "                                                                          &#x27;surface&#x27;,\n",
    "                                                                          &#x27;Nombre_pieces_principales&#x27;]),\n",
    "                                                                        (&#x27;onehotencoder&#x27;,\n",
    "                                                                         OneHotEncoder(handle_unknown=&#x27;ignore&#x27;,\n",
    "                                                                                       sparse=False),\n",
    "                                                                         [&#x27;dep&#x27;,\n",
    "                                                                          &#x27;Code_type_local&#x27;])])),\n",
    "                                       (&#x27;randomforest&#x27;,\n",
    "                                        RandomForestRegressor(max_depth=2,\n",
    "                                                              random_state=123))]),\n",
    "             param_grid={&#x27;randomforest__max_depth&#x27;: [2, 4],\n",
    "                         &#x27;randomforest__n_estimators&#x27;: array([ 5, 10, 15, 20, 25])})</pre></div></div></div><div class=\"sk-parallel\"><div class=\"sk-parallel-item\"><div class=\"sk-item\"><div class=\"sk-serial\"><div class=\"sk-item\"><div class=\"sk-serial\"><div class=\"sk-item sk-dashed-wrapped\"><div class=\"sk-label-container\"><div class=\"sk-label sk-toggleable\"><input class=\"sk-toggleable__control sk-hidden--visually\" id=\"e1ed9207-23d9-465c-8e8c-23ef81708002\" type=\"checkbox\" ><label for=\"e1ed9207-23d9-465c-8e8c-23ef81708002\" class=\"sk-toggleable__label sk-toggleable__label-arrow\">preprocessor: ColumnTransformer</label><div class=\"sk-toggleable__content\"><pre>ColumnTransformer(transformers=[(&#x27;pipeline&#x27;,\n",
    "                                 Pipeline(steps=[(&#x27;standardscaler&#x27;,\n",
    "                                                  StandardScaler())]),\n",
    "                                 [&#x27;Nombre_de_lots&#x27;, &#x27;surface&#x27;,\n",
    "                                  &#x27;Nombre_pieces_principales&#x27;]),\n",
    "                                (&#x27;onehotencoder&#x27;,\n",
    "                                 OneHotEncoder(handle_unknown=&#x27;ignore&#x27;,\n",
    "                                               sparse=False),\n",
    "                                 [&#x27;dep&#x27;, &#x27;Code_type_local&#x27;])])</pre></div></div></div><div class=\"sk-parallel\"><div class=\"sk-parallel-item\"><div class=\"sk-item\"><div class=\"sk-label-container\"><div class=\"sk-label sk-toggleable\"><input class=\"sk-toggleable__control sk-hidden--visually\" id=\"957ecb38-b4fd-474d-addd-77d5a0b1bb91\" type=\"checkbox\" ><label for=\"957ecb38-b4fd-474d-addd-77d5a0b1bb91\" class=\"sk-toggleable__label sk-toggleable__label-arrow\">pipeline</label><div class=\"sk-toggleable__content\"><pre>[&#x27;Nombre_de_lots&#x27;, &#x27;surface&#x27;, &#x27;Nombre_pieces_principales&#x27;]</pre></div></div></div><div class=\"sk-serial\"><div class=\"sk-item\"><div class=\"sk-serial\"><div class=\"sk-item\"><div class=\"sk-estimator sk-toggleable\"><input class=\"sk-toggleable__control sk-hidden--visually\" id=\"9db33b17-07e1-4592-b380-9facad0dcedf\" type=\"checkbox\" ><label for=\"9db33b17-07e1-4592-b380-9facad0dcedf\" class=\"sk-toggleable__label sk-toggleable__label-arrow\">StandardScaler</label><div class=\"sk-toggleable__content\"><pre>StandardScaler()</pre></div></div></div></div></div></div></div></div><div class=\"sk-parallel-item\"><div class=\"sk-item\"><div class=\"sk-label-container\"><div class=\"sk-label sk-toggleable\"><input class=\"sk-toggleable__control sk-hidden--visually\" id=\"532ef613-5cfb-4a0d-a6ac-bb048ddc7467\" type=\"checkbox\" ><label for=\"532ef613-5cfb-4a0d-a6ac-bb048ddc7467\" class=\"sk-toggleable__label sk-toggleable__label-arrow\">onehotencoder</label><div class=\"sk-toggleable__content\"><pre>[&#x27;dep&#x27;, &#x27;Code_type_local&#x27;]</pre></div></div></div><div class=\"sk-serial\"><div class=\"sk-item\"><div class=\"sk-estimator sk-toggleable\"><input class=\"sk-toggleable__control sk-hidden--visually\" id=\"fc245da7-2ad7-4b9b-be6d-5c5e9726176c\" type=\"checkbox\" ><label for=\"fc245da7-2ad7-4b9b-be6d-5c5e9726176c\" class=\"sk-toggleable__label sk-toggleable__label-arrow\">OneHotEncoder</label><div class=\"sk-toggleable__content\"><pre>OneHotEncoder(handle_unknown=&#x27;ignore&#x27;, sparse=False)</pre></div></div></div></div></div></div></div></div><div class=\"sk-item\"><div class=\"sk-estimator sk-toggleable\"><input class=\"sk-toggleable__control sk-hidden--visually\" id=\"6cd16414-fad8-426a-ab3f-ab5e1f25fd44\" type=\"checkbox\" ><label for=\"6cd16414-fad8-426a-ab3f-ab5e1f25fd44\" class=\"sk-toggleable__label sk-toggleable__label-arrow\">RandomForestRegressor</label><div class=\"sk-toggleable__content\"><pre>RandomForestRegressor(max_depth=2, random_state=123)</pre></div></div></div></div></div></div></div></div></div></div></div></div>\n",
    "\n",
    "{{< /rawhtml >}}\n"
   ]
  },
  {
   "cell_type": "markdown",
   "id": "78072013",
   "metadata": {},
   "source": [
    "```\n",
    "## Elapsed time : {} seconds 322\n",
    "```"
   ]
  },
  {
   "cell_type": "markdown",
   "id": "050cf173",
   "metadata": {},
   "source": [
    "On peut récupérer les paramètres optimaux avec la méthode `best_params_`:\n"
   ]
  },
  {
   "cell_type": "code",
   "execution_count": null,
   "id": "7fa1523d",
   "metadata": {},
   "outputs": [],
   "source": [
    "grid_search.best_params_"
   ]
  },
  {
   "cell_type": "markdown",
   "id": "7e281ae4",
   "metadata": {},
   "source": [
    "```\n",
    "## {'randomforest__max_depth': 4, 'randomforest__n_estimators': 5}\n",
    "```\n",
    "\n",
    "On pourra aussi ré-utiliser le modèle optimal de la manière suivante:\n"
   ]
  },
  {
   "cell_type": "code",
   "execution_count": null,
   "id": "049c0209",
   "metadata": {
    "lines_to_next_cell": 2
   },
   "outputs": [],
   "source": [
    "grid_search.best_estimator_"
   ]
  },
  {
   "cell_type": "markdown",
   "id": "01baeca2",
   "metadata": {},
   "source": [
    "{{< rawhtml >}}\n",
    "\n",
    "<style>#sk-8a0e1873-b265-4dc0-adf8-abfc6bbdba5a {color: black;background-color: white;}#sk-8a0e1873-b265-4dc0-adf8-abfc6bbdba5a pre{padding: 0;}#sk-8a0e1873-b265-4dc0-adf8-abfc6bbdba5a div.sk-toggleable {background-color: white;}#sk-8a0e1873-b265-4dc0-adf8-abfc6bbdba5a label.sk-toggleable__label {cursor: pointer;display: block;width: 100%;margin-bottom: 0;padding: 0.3em;box-sizing: border-box;text-align: center;}#sk-8a0e1873-b265-4dc0-adf8-abfc6bbdba5a label.sk-toggleable__label-arrow:before {content: \"▸\";float: left;margin-right: 0.25em;color: #696969;}#sk-8a0e1873-b265-4dc0-adf8-abfc6bbdba5a label.sk-toggleable__label-arrow:hover:before {color: black;}#sk-8a0e1873-b265-4dc0-adf8-abfc6bbdba5a div.sk-estimator:hover label.sk-toggleable__label-arrow:before {color: black;}#sk-8a0e1873-b265-4dc0-adf8-abfc6bbdba5a div.sk-toggleable__content {max-height: 0;max-width: 0;overflow: hidden;text-align: left;background-color: #f0f8ff;}#sk-8a0e1873-b265-4dc0-adf8-abfc6bbdba5a div.sk-toggleable__content pre {margin: 0.2em;color: black;border-radius: 0.25em;background-color: #f0f8ff;}#sk-8a0e1873-b265-4dc0-adf8-abfc6bbdba5a input.sk-toggleable__control:checked~div.sk-toggleable__content {max-height: 200px;max-width: 100%;overflow: auto;}#sk-8a0e1873-b265-4dc0-adf8-abfc6bbdba5a input.sk-toggleable__control:checked~label.sk-toggleable__label-arrow:before {content: \"▾\";}#sk-8a0e1873-b265-4dc0-adf8-abfc6bbdba5a div.sk-estimator input.sk-toggleable__control:checked~label.sk-toggleable__label {background-color: #d4ebff;}#sk-8a0e1873-b265-4dc0-adf8-abfc6bbdba5a div.sk-label input.sk-toggleable__control:checked~label.sk-toggleable__label {background-color: #d4ebff;}#sk-8a0e1873-b265-4dc0-adf8-abfc6bbdba5a input.sk-hidden--visually {border: 0;clip: rect(1px 1px 1px 1px);clip: rect(1px, 1px, 1px, 1px);height: 1px;margin: -1px;overflow: hidden;padding: 0;position: absolute;width: 1px;}#sk-8a0e1873-b265-4dc0-adf8-abfc6bbdba5a div.sk-estimator {font-family: monospace;background-color: #f0f8ff;border: 1px dotted black;border-radius: 0.25em;box-sizing: border-box;margin-bottom: 0.5em;}#sk-8a0e1873-b265-4dc0-adf8-abfc6bbdba5a div.sk-estimator:hover {background-color: #d4ebff;}#sk-8a0e1873-b265-4dc0-adf8-abfc6bbdba5a div.sk-parallel-item::after {content: \"\";width: 100%;border-bottom: 1px solid gray;flex-grow: 1;}#sk-8a0e1873-b265-4dc0-adf8-abfc6bbdba5a div.sk-label:hover label.sk-toggleable__label {background-color: #d4ebff;}#sk-8a0e1873-b265-4dc0-adf8-abfc6bbdba5a div.sk-serial::before {content: \"\";position: absolute;border-left: 1px solid gray;box-sizing: border-box;top: 2em;bottom: 0;left: 50%;}#sk-8a0e1873-b265-4dc0-adf8-abfc6bbdba5a div.sk-serial {display: flex;flex-direction: column;align-items: center;background-color: white;padding-right: 0.2em;padding-left: 0.2em;}#sk-8a0e1873-b265-4dc0-adf8-abfc6bbdba5a div.sk-item {z-index: 1;}#sk-8a0e1873-b265-4dc0-adf8-abfc6bbdba5a div.sk-parallel {display: flex;align-items: stretch;justify-content: center;background-color: white;}#sk-8a0e1873-b265-4dc0-adf8-abfc6bbdba5a div.sk-parallel::before {content: \"\";position: absolute;border-left: 1px solid gray;box-sizing: border-box;top: 2em;bottom: 0;left: 50%;}#sk-8a0e1873-b265-4dc0-adf8-abfc6bbdba5a div.sk-parallel-item {display: flex;flex-direction: column;position: relative;background-color: white;}#sk-8a0e1873-b265-4dc0-adf8-abfc6bbdba5a div.sk-parallel-item:first-child::after {align-self: flex-end;width: 50%;}#sk-8a0e1873-b265-4dc0-adf8-abfc6bbdba5a div.sk-parallel-item:last-child::after {align-self: flex-start;width: 50%;}#sk-8a0e1873-b265-4dc0-adf8-abfc6bbdba5a div.sk-parallel-item:only-child::after {width: 0;}#sk-8a0e1873-b265-4dc0-adf8-abfc6bbdba5a div.sk-dashed-wrapped {border: 1px dashed gray;margin: 0 0.4em 0.5em 0.4em;box-sizing: border-box;padding-bottom: 0.4em;background-color: white;position: relative;}#sk-8a0e1873-b265-4dc0-adf8-abfc6bbdba5a div.sk-label label {font-family: monospace;font-weight: bold;background-color: white;display: inline-block;line-height: 1.2em;}#sk-8a0e1873-b265-4dc0-adf8-abfc6bbdba5a div.sk-label-container {position: relative;z-index: 2;text-align: center;}#sk-8a0e1873-b265-4dc0-adf8-abfc6bbdba5a div.sk-container {/* jupyter's `normalize.less` sets `[hidden] { display: none; }` but bootstrap.min.css set `[hidden] { display: none !important; }` so we also need the `!important` here to be able to override the default hidden behavior on the sphinx rendered scikit-learn.org. See: https://github.com/scikit-learn/scikit-learn/issues/21755 */display: inline-block !important;position: relative;}#sk-8a0e1873-b265-4dc0-adf8-abfc6bbdba5a div.sk-text-repr-fallback {display: none;}</style><div id=\"sk-8a0e1873-b265-4dc0-adf8-abfc6bbdba5a\" class=\"sk-top-container\"><div class=\"sk-text-repr-fallback\"><pre>Pipeline(steps=[(&#x27;preprocessor&#x27;,\n",
    "                 ColumnTransformer(transformers=[(&#x27;pipeline&#x27;,\n",
    "                                                  Pipeline(steps=[(&#x27;standardscaler&#x27;,\n",
    "                                                                   StandardScaler())]),\n",
    "                                                  [&#x27;Nombre_de_lots&#x27;, &#x27;surface&#x27;,\n",
    "                                                   &#x27;Nombre_pieces_principales&#x27;]),\n",
    "                                                 (&#x27;onehotencoder&#x27;,\n",
    "                                                  OneHotEncoder(handle_unknown=&#x27;ignore&#x27;,\n",
    "                                                                sparse=False),\n",
    "                                                  [&#x27;dep&#x27;,\n",
    "                                                   &#x27;Code_type_local&#x27;])])),\n",
    "                (&#x27;randomforest&#x27;,\n",
    "                 RandomForestRegressor(max_depth=4, n_estimators=5,\n",
    "                                       random_state=123))])</pre><b>Please rerun this cell to show the HTML repr or trust the notebook.</b></div><div class=\"sk-container\" hidden><div class=\"sk-item sk-dashed-wrapped\"><div class=\"sk-label-container\"><div class=\"sk-label sk-toggleable\"><input class=\"sk-toggleable__control sk-hidden--visually\" id=\"ecca2990-a70e-475a-a16b-6fe198173405\" type=\"checkbox\" ><label for=\"ecca2990-a70e-475a-a16b-6fe198173405\" class=\"sk-toggleable__label sk-toggleable__label-arrow\">Pipeline</label><div class=\"sk-toggleable__content\"><pre>Pipeline(steps=[(&#x27;preprocessor&#x27;,\n",
    "                 ColumnTransformer(transformers=[(&#x27;pipeline&#x27;,\n",
    "                                                  Pipeline(steps=[(&#x27;standardscaler&#x27;,\n",
    "                                                                   StandardScaler())]),\n",
    "                                                  [&#x27;Nombre_de_lots&#x27;, &#x27;surface&#x27;,\n",
    "                                                   &#x27;Nombre_pieces_principales&#x27;]),\n",
    "                                                 (&#x27;onehotencoder&#x27;,\n",
    "                                                  OneHotEncoder(handle_unknown=&#x27;ignore&#x27;,\n",
    "                                                                sparse=False),\n",
    "                                                  [&#x27;dep&#x27;,\n",
    "                                                   &#x27;Code_type_local&#x27;])])),\n",
    "                (&#x27;randomforest&#x27;,\n",
    "                 RandomForestRegressor(max_depth=4, n_estimators=5,\n",
    "                                       random_state=123))])</pre></div></div></div><div class=\"sk-serial\"><div class=\"sk-item sk-dashed-wrapped\"><div class=\"sk-label-container\"><div class=\"sk-label sk-toggleable\"><input class=\"sk-toggleable__control sk-hidden--visually\" id=\"d5423e30-aab1-48f2-a2ed-0de0f681abd9\" type=\"checkbox\" ><label for=\"d5423e30-aab1-48f2-a2ed-0de0f681abd9\" class=\"sk-toggleable__label sk-toggleable__label-arrow\">preprocessor: ColumnTransformer</label><div class=\"sk-toggleable__content\"><pre>ColumnTransformer(transformers=[(&#x27;pipeline&#x27;,\n",
    "                                 Pipeline(steps=[(&#x27;standardscaler&#x27;,\n",
    "                                                  StandardScaler())]),\n",
    "                                 [&#x27;Nombre_de_lots&#x27;, &#x27;surface&#x27;,\n",
    "                                  &#x27;Nombre_pieces_principales&#x27;]),\n",
    "                                (&#x27;onehotencoder&#x27;,\n",
    "                                 OneHotEncoder(handle_unknown=&#x27;ignore&#x27;,\n",
    "                                               sparse=False),\n",
    "                                 [&#x27;dep&#x27;, &#x27;Code_type_local&#x27;])])</pre></div></div></div><div class=\"sk-parallel\"><div class=\"sk-parallel-item\"><div class=\"sk-item\"><div class=\"sk-label-container\"><div class=\"sk-label sk-toggleable\"><input class=\"sk-toggleable__control sk-hidden--visually\" id=\"5789c691-2f0b-49ba-9fd5-44af36c42cb2\" type=\"checkbox\" ><label for=\"5789c691-2f0b-49ba-9fd5-44af36c42cb2\" class=\"sk-toggleable__label sk-toggleable__label-arrow\">pipeline</label><div class=\"sk-toggleable__content\"><pre>[&#x27;Nombre_de_lots&#x27;, &#x27;surface&#x27;, &#x27;Nombre_pieces_principales&#x27;]</pre></div></div></div><div class=\"sk-serial\"><div class=\"sk-item\"><div class=\"sk-serial\"><div class=\"sk-item\"><div class=\"sk-estimator sk-toggleable\"><input class=\"sk-toggleable__control sk-hidden--visually\" id=\"06ca31a0-2b65-4615-9205-18e39433d1b0\" type=\"checkbox\" ><label for=\"06ca31a0-2b65-4615-9205-18e39433d1b0\" class=\"sk-toggleable__label sk-toggleable__label-arrow\">StandardScaler</label><div class=\"sk-toggleable__content\"><pre>StandardScaler()</pre></div></div></div></div></div></div></div></div><div class=\"sk-parallel-item\"><div class=\"sk-item\"><div class=\"sk-label-container\"><div class=\"sk-label sk-toggleable\"><input class=\"sk-toggleable__control sk-hidden--visually\" id=\"49099844-e4a1-485e-982f-b4ef6cac4176\" type=\"checkbox\" ><label for=\"49099844-e4a1-485e-982f-b4ef6cac4176\" class=\"sk-toggleable__label sk-toggleable__label-arrow\">onehotencoder</label><div class=\"sk-toggleable__content\"><pre>[&#x27;dep&#x27;, &#x27;Code_type_local&#x27;]</pre></div></div></div><div class=\"sk-serial\"><div class=\"sk-item\"><div class=\"sk-estimator sk-toggleable\"><input class=\"sk-toggleable__control sk-hidden--visually\" id=\"a5bc9bce-76a0-4804-8364-21691bfe244d\" type=\"checkbox\" ><label for=\"a5bc9bce-76a0-4804-8364-21691bfe244d\" class=\"sk-toggleable__label sk-toggleable__label-arrow\">OneHotEncoder</label><div class=\"sk-toggleable__content\"><pre>OneHotEncoder(handle_unknown=&#x27;ignore&#x27;, sparse=False)</pre></div></div></div></div></div></div></div></div><div class=\"sk-item\"><div class=\"sk-estimator sk-toggleable\"><input class=\"sk-toggleable__control sk-hidden--visually\" id=\"c2488070-3ae2-46fb-8c62-c760bc85db0e\" type=\"checkbox\" ><label for=\"c2488070-3ae2-46fb-8c62-c760bc85db0e\" class=\"sk-toggleable__label sk-toggleable__label-arrow\">RandomForestRegressor</label><div class=\"sk-toggleable__content\"><pre>RandomForestRegressor(max_depth=4, n_estimators=5, random_state=123)</pre></div></div></div></div></div></div></div>\n",
    "\n",
    "{{< /rawhtml >}}\n",
    "\n",
    "Toutes les performances sur les ensembles d'échantillons et de test sur la grille\n",
    "d'hyperparamètres sont disponibles dans l'attribut:\n"
   ]
  },
  {
   "cell_type": "code",
   "execution_count": null,
   "id": "95e39088",
   "metadata": {},
   "outputs": [],
   "source": [
    "perf_random_forest = pd.DataFrame(grid_search.cv_results_)"
   ]
  },
  {
   "cell_type": "markdown",
   "id": "84f0eaad",
   "metadata": {},
   "source": [
    "Regardons les résultats moyens pour chaque valeur des hyperparamètres:\n"
   ]
  },
  {
   "cell_type": "code",
   "execution_count": null,
   "id": "83029688",
   "metadata": {},
   "outputs": [],
   "source": [
    "fig, ax = plt.subplots(1)\n",
    "g = sns.lineplot(data = perf_random_forest, ax = ax,\n",
    "             x = \"param_randomforest__n_estimators\",\n",
    "             y = \"mean_test_score\",\n",
    "             hue = \"param_randomforest__max_depth\")\n",
    "g.set(xlabel='Number of estimators', ylabel='Mean score on test sample')"
   ]
  },
  {
   "cell_type": "code",
   "execution_count": null,
   "id": "623d3be0",
   "metadata": {
    "lines_to_next_cell": 2
   },
   "outputs": [],
   "source": [
    "g\n",
    "plt.legend(bbox_to_anchor=(1.05, 1), loc='upper left', borderaxespad=0,\n",
    "           title='Depth of trees')\n",
    "plt.savefig(\"perfCV.png\")"
   ]
  },
  {
   "cell_type": "markdown",
   "id": "10e244e6",
   "metadata": {},
   "source": [
    "{{<figure src=\"../course/modelisation/perfCV.png\" >}}\n",
    "\n",
    "Globalement, à profondeur d'arbre donnée, le nombre d'arbres change\n",
    "marginalement la performance (cela détériore\n",
    "la performance quand la profondeur est de 4, cela améliore quand\n",
    "on fixe la profondeur de 2).\n",
    "En revanche, changer la profondeur de l'arbre améliore la \n",
    "performance de manière plus marquée.\n",
    "\n",
    "Maintenant, il nous reste à re-entraîner le modèle avec ces nouveaux\n",
    "paramètres sur l'ensemble du jeu de *train* et l'évaluer sur l'ensemble\n",
    "du jeu de *test*:\n"
   ]
  },
  {
   "cell_type": "code",
   "execution_count": null,
   "id": "2cd39ed5",
   "metadata": {},
   "outputs": [],
   "source": [
    "pipe_optimal = grid_search.best_estimator_\n",
    "pipe_optimal.fit(X_train, y_train)"
   ]
  },
  {
   "cell_type": "code",
   "execution_count": null,
   "id": "f9202a19",
   "metadata": {},
   "outputs": [],
   "source": [
    "compar = pd.DataFrame([y_test, pipe_optimal.predict(X_test)]).T\n",
    "compar.columns = ['obs','pred']\n",
    "compar['diff'] = compar.obs - compar.pred"
   ]
  },
  {
   "cell_type": "markdown",
   "id": "30e67d2d",
   "metadata": {},
   "source": [
    "On obtient le RMSE suivant:\n"
   ]
  },
  {
   "cell_type": "code",
   "execution_count": null,
   "id": "7e806566",
   "metadata": {},
   "outputs": [],
   "source": [
    "print(\"Le RMSE sur le jeu de test est {:,}\".format(\n",
    "   int(np.sqrt(mean_squared_error(y_test, pipe_optimal.predict(X_test))))\n",
    "))"
   ]
  },
  {
   "cell_type": "markdown",
   "id": "b279b51a",
   "metadata": {},
   "source": [
    "```\n",
    "## Le RMSE sur le jeu de test est 449,713\n",
    "```\n",
    "\n",
    "Et si on regarde la qualité en prédiction:\n"
   ]
  },
  {
   "cell_type": "code",
   "execution_count": null,
   "id": "da45c76a",
   "metadata": {},
   "outputs": [],
   "source": [
    "g = sns.relplot(data = compar, x = 'obs', y = 'pred', color = \"royalblue\", alpha = 0.8)\n",
    "g.set(ylim=(0, 2e6), xlim=(0, 2e6),\n",
    "      title='Evaluating estimation error on test sample',\n",
    "      xlabel='Observed values',\n",
    "      ylabel='Predicted values')"
   ]
  },
  {
   "cell_type": "code",
   "execution_count": null,
   "id": "db6de9a7",
   "metadata": {},
   "outputs": [],
   "source": [
    "g.ax.axline(xy1=(0, 0), slope=1, color=\"red\", dashes=(5, 2))\n",
    "g"
   ]
  },
  {
   "cell_type": "code",
   "execution_count": null,
   "id": "9ed77308",
   "metadata": {},
   "outputs": [],
   "source": [
    "plt.savefig(\"predCV.png\")"
   ]
  },
  {
   "cell_type": "markdown",
   "id": "28a8e062",
   "metadata": {},
   "source": [
    "{{<figure src=\"../course/modelisation/predCV.png\" >}}\n",
    "\n",
    "On obtient plus de variance dans la prédiction, c'est déjà un peu mieux.\n",
    "Cependant, cela reste décevant pour plusieurs raisons:\n",
    "\n",
    "- nous n'avons pas fait d'étape de sélection de variable\n",
    "- nous n'avons pas chercher à déterminer si la variable à prédire la plus\n",
    "pertinente était le prix ou une transformation de celle-ci\n",
    "(par exemple le prix au $m^2$)\n",
    "\n",
    "{{< spoiler text=\"Cliquer pour afficher le code\" >}}\n"
   ]
  },
  {
   "cell_type": "code",
   "execution_count": null,
   "id": "0a7710c5",
   "metadata": {
    "lines_to_next_cell": 0
   },
   "outputs": [],
   "source": [
    "features_names=pipe_optimal['preprocessor'].get_feature_names_out()\n",
    "importances = pipe_optimal['randomforest'].feature_importances_\n",
    "std = np.std([tree.feature_importances_ for tree in pipe_optimal['randomforest'].estimators_], axis=0)\n",
    "\n",
    "forest_importances = pd.Series(importances[importances>0], index=features_names[importances>0])\n",
    "\n",
    "fig, ax = plt.subplots()\n",
    "forest_importances.plot.bar(yerr=std[importances>0], ax=ax)\n",
    "ax.set_title(\"Feature importances using MDI\")\n",
    "ax.set_ylabel(\"Mean decrease in impurity\")\n",
    "fig.tight_layout()"
   ]
  },
  {
   "cell_type": "markdown",
   "id": "1ffd1b4e",
   "metadata": {},
   "source": [
    "\n"
   ]
  },
  {
   "cell_type": "markdown",
   "id": "d6d1207d",
   "metadata": {},
   "source": [
    "```r\n",
    "knitr::include_graphics(\"varimportance2.png\")\n",
    "```\n",
    "\n",
    "{{<figure src=\"../course/modelisation/varimportance2.png\" >}}\n",
    "\n",
    "{{< /spoiler >}}\n",
    "\n",
    "## Remarque sur la performance\n",
    "\n",
    "Les estimations sont, par défaut, menées de manière séquentielle (l'une après\n",
    "l'autre). Nous sommes cependant face à un problème\n",
    "*embarassingly parallel*. \n",
    "Pour gagner en performance, il est recommandé d'utiliser l'argument\n",
    "`n_jobs=-1`."
   ]
  },
  {
   "cell_type": "markdown",
   "id": "d04f5204",
   "metadata": {},
   "source": [
    "## Remarque sur l'échantillonnage\n",
    "\n",
    "En l'état actuel de l'échantillonnage entre train et test au sein de la\n",
    "_grid search_,\n",
    "on est face à un problème de *data leaking* car l'échantillon\n",
    "n'est pas balancé entre nos classes (les départements).\n",
    "\n",
    "Certaines classes se \n",
    "retrouvent hors de l'échantillon d'estimation mais dans l'échantillon de prédiction.\n",
    "Autrement dit, notre *pipeline* de *preprocessing* se retrouve à devoir\n",
    "nettoyer des valeurs qu'il ne connaît pas. \n",
    "\n",
    "Nous avons choisi une option, dans notre *pipeline* pour se faciliter la vie\n",
    "à ce propos. Nous ne rencontrons pas d'erreur car nous avons utilisé l'option \n",
    "`handle_unknown = \"ignore\"` plutôt que \n",
    "`handle_unknown = \"error\"` (défaut) dans le _one hot encoding_. \n",
    "Cette option est dangereuse et n'est pas recommandée pour un vrai _pipeline_.\n",
    "De manière générale, il vaut mieux adopter une approche de\n",
    "programmation défensive en n'hésitant pas à renvoyer une erreur si la\n",
    "structure du *DataFrame* de prédiction diffère vraiment de celle du *DataFrame*\n",
    "d'entraînement."
   ]
  },
  {
   "cell_type": "markdown",
   "id": "c66ee52e",
   "metadata": {},
   "source": [
    "Pour éviter cette erreur, il serait mieux de définir explicitement le schéma de\n",
    "validation croisée à mettre en oeuvre.\n",
    "Précédemment, nous avions utilisé un échantillonnage stratifié. \n",
    "Cela pourrait être fait ici avec\n",
    "la méthode `StratifiedGroupKFold` (plus d'éléments à venir)\n"
   ]
  },
  {
   "cell_type": "code",
   "execution_count": null,
   "id": "0a751cbf",
   "metadata": {},
   "outputs": [],
   "source": [
    "from sklearn.model_selection import StratifiedGroupKFold\n",
    "cv = StratifiedGroupKFold(n_splits=5)\n",
    "#grid_search.fit(pd.concat((X_train, X_test), axis=0), np.concatenate([y_train,y_test]), cv = cv, groups = pd.concat((X_train, X_test), axis=0)['dep'])"
   ]
  },
  {
   "cell_type": "markdown",
   "id": "3f26f43f",
   "metadata": {},
   "source": [
    "# Eléments supplémentaires à venir\n",
    "\n",
    "Ce chapitre est amené à être enrichi des éléments suivants\n",
    "(cf. [#207](https://github.com/linogaliana/python-datascientist/issues/207))\n",
    "\n",
    "- [ ] Comparaison performance entre modèles grâce aux pipelines\n",
    "- [ ] Intégration d'une étape de sélection de variable dans un pipeline\n",
    "- [ ] `statsmodels` dans un pipeline\n",
    "- [ ] `Keras` dans un pipeline\n"
   ]
  },
  {
   "cell_type": "markdown",
   "id": "6976fc41",
   "metadata": {},
   "source": [
    "# Annexes: pipelines alternatifs\n",
    "\n",
    "## Préalable : quelques méthodes pour gagner en flexibilité dans le preprocessing\n",
    "\n",
    "Notre *DataFrame* comporte des types hétérogènes de variables:\n",
    "\n",
    "* Des variables numériques dont les variances sont très hétérogènes\n",
    "* Des variables textuelles qui mériteraient un recodage sous forme numérique\n",
    "* Des variables discrètes dont les modalités devraient être éclatées (_one hot encoding_)\n",
    "\n",
    "Pour gagner en flexibilité, nous allons proposer certaines méthodes qui permettent\n",
    "d'appliquer les étapes de _preprocessing_ adéquates à un sous-ensemble de \n",
    "variables[^1]. Ces méthodes ne sont plus nécessaires dans les versions\n",
    "récentes de `scikit`.\n",
    "\n",
    "[^1]: Un certain nombre des éléments suivants ont été glannés, par ci par là,\n",
    "depuis `stackoverflow`.\n",
    "\n",
    "Pour cela, il convient d'adopter l'approche de la programmation orientée objet. \n",
    "On va créer des classes avec des méthodes `transform` et `fit_transform`\n",
    "qui pourront ainsi être intégrées directement dans les *pipelines*, comme s'il\n",
    "s'agissait de méthodes issues de `scikit`.\n",
    "\n",
    "La première généralise `LabelEncoder` à un sous-ensemble de colonnes:\n"
   ]
  },
  {
   "cell_type": "code",
   "execution_count": null,
   "id": "9e9f839f",
   "metadata": {},
   "outputs": [],
   "source": [
    "from sklearn.preprocessing import LabelEncoder, OneHotEncoder\n",
    "from sklearn.compose import ColumnTransformer\n",
    "\n",
    "class MultiColumnLabelEncoder:\n",
    "    def __init__(self,columns = None):\n",
    "        self.columns = columns # array of column names to encode\n",
    "\n",
    "    def fit(self,X,y=None):\n",
    "        return self # not relevant here\n",
    "\n",
    "    def transform(self,X):\n",
    "        '''\n",
    "        Transforms columns of X specified in self.columns using\n",
    "        LabelEncoder(). If no columns specified, transforms all\n",
    "        columns in X.\n",
    "        '''\n",
    "        output = X.copy()\n",
    "        if self.columns is not None:\n",
    "            for col in self.columns:\n",
    "                output[col] = LabelEncoder().fit_transform(output[col])\n",
    "        else:\n",
    "            for colname,col in output.iteritems():\n",
    "                output[colname] = LabelEncoder().fit_transform(col)\n",
    "        return output\n",
    "\n",
    "    def fit_transform(self,X,y=None):\n",
    "        return self.fit(X,y).transform(X)"
   ]
  },
  {
   "cell_type": "markdown",
   "id": "d330e9c4",
   "metadata": {},
   "source": [
    "La seconde généralise cette fois le *one hot encoding* à un sous ensemble de \n",
    "fonctions\n"
   ]
  },
  {
   "cell_type": "code",
   "execution_count": null,
   "id": "a2e75e91",
   "metadata": {},
   "outputs": [],
   "source": [
    "class MultiColumnOneHotEncoder:\n",
    "    def __init__(self,columns = None):\n",
    "        self.columns = columns # array of column names to encode\n",
    "\n",
    "    def fit(self,X,y=None):\n",
    "        return self # not relevant here\n",
    "\n",
    "    def transform(self,X):\n",
    "        '''\n",
    "        Transforms columns of X specified in self.columns using\n",
    "        LabelEncoder(). If no columns specified, transforms all\n",
    "        columns in X.\n",
    "        '''\n",
    "        output = X.copy()\n",
    "        if self.columns is not None:\n",
    "            for col in self.columns:\n",
    "                output[col] = OneHotEncoder(sparse=False).fit_transform(output[col])\n",
    "        else:\n",
    "            for colname,col in output.iteritems():\n",
    "                output[colname] = OneHotEncoder(sparse=False).fit_transform(col)\n",
    "        return output\n",
    "\n",
    "    def fit_transform(self,X,y=None):\n",
    "        return self.fit(X,y).transform(X)"
   ]
  },
  {
   "cell_type": "markdown",
   "id": "09244655",
   "metadata": {},
   "source": [
    "Les méthodes suivantes vont nous permettre de passer en arguments les noms\n",
    "de colonnes pour intégrer la récupération des bonnes colonnes de nos\n",
    "dataframes dans le pipeline:\n"
   ]
  },
  {
   "cell_type": "code",
   "execution_count": null,
   "id": "78721eaa",
   "metadata": {},
   "outputs": [],
   "source": [
    "from sklearn.base import BaseEstimator, TransformerMixin, RegressorMixin\n",
    "\n",
    "class Columns(BaseEstimator, TransformerMixin):\n",
    "    def __init__(self, names=None):\n",
    "        self.names = names\n",
    "\n",
    "    def fit(self, X, y=None, **fit_params):\n",
    "        return self\n",
    "\n",
    "    def transform(self, X):\n",
    "        return X[self.names]\n",
    "\n",
    "class Normalize(BaseEstimator, TransformerMixin):\n",
    "    def __init__(self, func=None, func_param={}):\n",
    "        self.func = func\n",
    "        self.func_param = func_param\n",
    "\n",
    "    def transform(self, X):\n",
    "        if self.func != None:\n",
    "            return self.func(X, **self.func_param)\n",
    "        else:\n",
    "            return X\n",
    "\n",
    "    def fit(self, X, y=None, **fit_params):\n",
    "        return self"
   ]
  },
  {
   "cell_type": "markdown",
   "id": "26cf15d2",
   "metadata": {},
   "source": [
    "Enfin, on va créer une méthode intermédiaire sous forme de *hack*\n",
    "(elle prend une matrice en entrée et renvoie la même matrice) \n",
    "pour\n",
    "pouvoir facilement récupérer notre matrice de *feature* afin de vérifier\n",
    "ses caractéristiques (notamment le nombre de colonnes disponibles):\n"
   ]
  },
  {
   "cell_type": "code",
   "execution_count": null,
   "id": "a7d4b6ed",
   "metadata": {
    "lines_to_next_cell": 0
   },
   "outputs": [],
   "source": [
    "class Collect(BaseEstimator, TransformerMixin):\n",
    "\n",
    "    def transform(self, X):\n",
    "        #print(X.shape)\n",
    "        #self.shape = shape\n",
    "        # what other output you want\n",
    "        return X\n",
    "\n",
    "    def fit(self, X, y=None, **fit_params):\n",
    "        return self"
   ]
  },
  {
   "cell_type": "markdown",
   "id": "fcc852c5",
   "metadata": {},
   "source": [
    "\n"
   ]
  },
  {
   "cell_type": "code",
   "execution_count": null,
   "id": "2c18e5db",
   "metadata": {},
   "outputs": [],
   "source": [
    "from sklearn.pipeline import make_pipeline, FeatureUnion\n",
    "from sklearn.preprocessing import StandardScaler, LabelEncoder, OneHotEncoder\n",
    "from sklearn.pipeline import Pipeline\n",
    "\n",
    "pipe2 = Pipeline([\n",
    "    (\"features\", FeatureUnion([\n",
    "        ('numeric', make_pipeline(Columns(names=numeric_features[:-1]),StandardScaler())),\n",
    "        ('categorical', make_pipeline(Columns(names=categorical_features),OneHotEncoder(sparse=False)))\n",
    "    ])),\n",
    "    ('identity', Collect()),\n",
    "    ('randomforest', regr)\n",
    "])"
   ]
  },
  {
   "cell_type": "markdown",
   "id": "64d6aaac",
   "metadata": {},
   "source": [
    "{{< rawhtml >}}\n",
    "\n",
    "<style>#sk-abcd1ac7-a51f-45d0-a40b-fbb054af8cf8 {color: black;background-color: white;}#sk-abcd1ac7-a51f-45d0-a40b-fbb054af8cf8 pre{padding: 0;}#sk-abcd1ac7-a51f-45d0-a40b-fbb054af8cf8 div.sk-toggleable {background-color: white;}#sk-abcd1ac7-a51f-45d0-a40b-fbb054af8cf8 label.sk-toggleable__label {cursor: pointer;display: block;width: 100%;margin-bottom: 0;padding: 0.3em;box-sizing: border-box;text-align: center;}#sk-abcd1ac7-a51f-45d0-a40b-fbb054af8cf8 label.sk-toggleable__label-arrow:before {content: \"▸\";float: left;margin-right: 0.25em;color: #696969;}#sk-abcd1ac7-a51f-45d0-a40b-fbb054af8cf8 label.sk-toggleable__label-arrow:hover:before {color: black;}#sk-abcd1ac7-a51f-45d0-a40b-fbb054af8cf8 div.sk-estimator:hover label.sk-toggleable__label-arrow:before {color: black;}#sk-abcd1ac7-a51f-45d0-a40b-fbb054af8cf8 div.sk-toggleable__content {max-height: 0;max-width: 0;overflow: hidden;text-align: left;background-color: #f0f8ff;}#sk-abcd1ac7-a51f-45d0-a40b-fbb054af8cf8 div.sk-toggleable__content pre {margin: 0.2em;color: black;border-radius: 0.25em;background-color: #f0f8ff;}#sk-abcd1ac7-a51f-45d0-a40b-fbb054af8cf8 input.sk-toggleable__control:checked~div.sk-toggleable__content {max-height: 200px;max-width: 100%;overflow: auto;}#sk-abcd1ac7-a51f-45d0-a40b-fbb054af8cf8 input.sk-toggleable__control:checked~label.sk-toggleable__label-arrow:before {content: \"▾\";}#sk-abcd1ac7-a51f-45d0-a40b-fbb054af8cf8 div.sk-estimator input.sk-toggleable__control:checked~label.sk-toggleable__label {background-color: #d4ebff;}#sk-abcd1ac7-a51f-45d0-a40b-fbb054af8cf8 div.sk-label input.sk-toggleable__control:checked~label.sk-toggleable__label {background-color: #d4ebff;}#sk-abcd1ac7-a51f-45d0-a40b-fbb054af8cf8 input.sk-hidden--visually {border: 0;clip: rect(1px 1px 1px 1px);clip: rect(1px, 1px, 1px, 1px);height: 1px;margin: -1px;overflow: hidden;padding: 0;position: absolute;width: 1px;}#sk-abcd1ac7-a51f-45d0-a40b-fbb054af8cf8 div.sk-estimator {font-family: monospace;background-color: #f0f8ff;border: 1px dotted black;border-radius: 0.25em;box-sizing: border-box;margin-bottom: 0.5em;}#sk-abcd1ac7-a51f-45d0-a40b-fbb054af8cf8 div.sk-estimator:hover {background-color: #d4ebff;}#sk-abcd1ac7-a51f-45d0-a40b-fbb054af8cf8 div.sk-parallel-item::after {content: \"\";width: 100%;border-bottom: 1px solid gray;flex-grow: 1;}#sk-abcd1ac7-a51f-45d0-a40b-fbb054af8cf8 div.sk-label:hover label.sk-toggleable__label {background-color: #d4ebff;}#sk-abcd1ac7-a51f-45d0-a40b-fbb054af8cf8 div.sk-serial::before {content: \"\";position: absolute;border-left: 1px solid gray;box-sizing: border-box;top: 2em;bottom: 0;left: 50%;}#sk-abcd1ac7-a51f-45d0-a40b-fbb054af8cf8 div.sk-serial {display: flex;flex-direction: column;align-items: center;background-color: white;padding-right: 0.2em;padding-left: 0.2em;}#sk-abcd1ac7-a51f-45d0-a40b-fbb054af8cf8 div.sk-item {z-index: 1;}#sk-abcd1ac7-a51f-45d0-a40b-fbb054af8cf8 div.sk-parallel {display: flex;align-items: stretch;justify-content: center;background-color: white;}#sk-abcd1ac7-a51f-45d0-a40b-fbb054af8cf8 div.sk-parallel::before {content: \"\";position: absolute;border-left: 1px solid gray;box-sizing: border-box;top: 2em;bottom: 0;left: 50%;}#sk-abcd1ac7-a51f-45d0-a40b-fbb054af8cf8 div.sk-parallel-item {display: flex;flex-direction: column;position: relative;background-color: white;}#sk-abcd1ac7-a51f-45d0-a40b-fbb054af8cf8 div.sk-parallel-item:first-child::after {align-self: flex-end;width: 50%;}#sk-abcd1ac7-a51f-45d0-a40b-fbb054af8cf8 div.sk-parallel-item:last-child::after {align-self: flex-start;width: 50%;}#sk-abcd1ac7-a51f-45d0-a40b-fbb054af8cf8 div.sk-parallel-item:only-child::after {width: 0;}#sk-abcd1ac7-a51f-45d0-a40b-fbb054af8cf8 div.sk-dashed-wrapped {border: 1px dashed gray;margin: 0 0.4em 0.5em 0.4em;box-sizing: border-box;padding-bottom: 0.4em;background-color: white;position: relative;}#sk-abcd1ac7-a51f-45d0-a40b-fbb054af8cf8 div.sk-label label {font-family: monospace;font-weight: bold;background-color: white;display: inline-block;line-height: 1.2em;}#sk-abcd1ac7-a51f-45d0-a40b-fbb054af8cf8 div.sk-label-container {position: relative;z-index: 2;text-align: center;}#sk-abcd1ac7-a51f-45d0-a40b-fbb054af8cf8 div.sk-container {/* jupyter's `normalize.less` sets `[hidden] { display: none; }` but bootstrap.min.css set `[hidden] { display: none !important; }` so we also need the `!important` here to be able to override the default hidden behavior on the sphinx rendered scikit-learn.org. See: https://github.com/scikit-learn/scikit-learn/issues/21755 */display: inline-block !important;position: relative;}#sk-abcd1ac7-a51f-45d0-a40b-fbb054af8cf8 div.sk-text-repr-fallback {display: none;}</style><div id=\"sk-abcd1ac7-a51f-45d0-a40b-fbb054af8cf8\" class=\"sk-top-container\"><div class=\"sk-text-repr-fallback\"><pre>Pipeline(steps=[(&#x27;features&#x27;,\n",
    "                 FeatureUnion(transformer_list=[(&#x27;numeric&#x27;,\n",
    "                                                 Pipeline(steps=[(&#x27;columns&#x27;,\n",
    "                                                                  Columns(names=[&#x27;Nombre_de_lots&#x27;,\n",
    "                                                                                 &#x27;surface&#x27;,\n",
    "                                                                                 &#x27;Nombre_pieces_principales&#x27;])),\n",
    "                                                                 (&#x27;standardscaler&#x27;,\n",
    "                                                                  StandardScaler())])),\n",
    "                                                (&#x27;categorical&#x27;,\n",
    "                                                 Pipeline(steps=[(&#x27;columns&#x27;,\n",
    "                                                                  Columns(names=[&#x27;dep&#x27;,\n",
    "                                                                                 &#x27;Code_type_local&#x27;])),\n",
    "                                                                 (&#x27;onehotencoder&#x27;,\n",
    "                                                                  OneHotEncoder(sparse=False))]))])),\n",
    "                (&#x27;identity&#x27;, Collect()),\n",
    "                (&#x27;randomforest&#x27;,\n",
    "                 RandomForestRegressor(max_depth=2, random_state=123))])</pre><b>Please rerun this cell to show the HTML repr or trust the notebook.</b></div><div class=\"sk-container\" hidden><div class=\"sk-item sk-dashed-wrapped\"><div class=\"sk-label-container\"><div class=\"sk-label sk-toggleable\"><input class=\"sk-toggleable__control sk-hidden--visually\" id=\"508f4260-d7b8-499e-9b2a-914d0c4f0a62\" type=\"checkbox\" ><label for=\"508f4260-d7b8-499e-9b2a-914d0c4f0a62\" class=\"sk-toggleable__label sk-toggleable__label-arrow\">Pipeline</label><div class=\"sk-toggleable__content\"><pre>Pipeline(steps=[(&#x27;features&#x27;,\n",
    "                 FeatureUnion(transformer_list=[(&#x27;numeric&#x27;,\n",
    "                                                 Pipeline(steps=[(&#x27;columns&#x27;,\n",
    "                                                                  Columns(names=[&#x27;Nombre_de_lots&#x27;,\n",
    "                                                                                 &#x27;surface&#x27;,\n",
    "                                                                                 &#x27;Nombre_pieces_principales&#x27;])),\n",
    "                                                                 (&#x27;standardscaler&#x27;,\n",
    "                                                                  StandardScaler())])),\n",
    "                                                (&#x27;categorical&#x27;,\n",
    "                                                 Pipeline(steps=[(&#x27;columns&#x27;,\n",
    "                                                                  Columns(names=[&#x27;dep&#x27;,\n",
    "                                                                                 &#x27;Code_type_local&#x27;])),\n",
    "                                                                 (&#x27;onehotencoder&#x27;,\n",
    "                                                                  OneHotEncoder(sparse=False))]))])),\n",
    "                (&#x27;identity&#x27;, Collect()),\n",
    "                (&#x27;randomforest&#x27;,\n",
    "                 RandomForestRegressor(max_depth=2, random_state=123))])</pre></div></div></div><div class=\"sk-serial\"><div class=\"sk-item sk-dashed-wrapped\"><div class=\"sk-label-container\"><div class=\"sk-label sk-toggleable\"><input class=\"sk-toggleable__control sk-hidden--visually\" id=\"05166870-2234-4a69-805b-ee733c409cc2\" type=\"checkbox\" ><label for=\"05166870-2234-4a69-805b-ee733c409cc2\" class=\"sk-toggleable__label sk-toggleable__label-arrow\">features: FeatureUnion</label><div class=\"sk-toggleable__content\"><pre>FeatureUnion(transformer_list=[(&#x27;numeric&#x27;,\n",
    "                                Pipeline(steps=[(&#x27;columns&#x27;,\n",
    "                                                 Columns(names=[&#x27;Nombre_de_lots&#x27;,\n",
    "                                                                &#x27;surface&#x27;,\n",
    "                                                                &#x27;Nombre_pieces_principales&#x27;])),\n",
    "                                                (&#x27;standardscaler&#x27;,\n",
    "                                                 StandardScaler())])),\n",
    "                               (&#x27;categorical&#x27;,\n",
    "                                Pipeline(steps=[(&#x27;columns&#x27;,\n",
    "                                                 Columns(names=[&#x27;dep&#x27;,\n",
    "                                                                &#x27;Code_type_local&#x27;])),\n",
    "                                                (&#x27;onehotencoder&#x27;,\n",
    "                                                 OneHotEncoder(sparse=False))]))])</pre></div></div></div><div class=\"sk-parallel\"><div class=\"sk-parallel-item\"><div class=\"sk-item\"><div class=\"sk-label-container\"><div class=\"sk-label sk-toggleable\"><label>numeric</label></div></div><div class=\"sk-serial\"><div class=\"sk-item\"><div class=\"sk-serial\"><div class=\"sk-item\"><div class=\"sk-estimator sk-toggleable\"><input class=\"sk-toggleable__control sk-hidden--visually\" id=\"4e277bfc-98b7-4d5b-9c0c-163a94573f9e\" type=\"checkbox\" ><label for=\"4e277bfc-98b7-4d5b-9c0c-163a94573f9e\" class=\"sk-toggleable__label sk-toggleable__label-arrow\">Columns</label><div class=\"sk-toggleable__content\"><pre>Columns(names=[&#x27;Nombre_de_lots&#x27;, &#x27;surface&#x27;, &#x27;Nombre_pieces_principales&#x27;])</pre></div></div></div><div class=\"sk-item\"><div class=\"sk-estimator sk-toggleable\"><input class=\"sk-toggleable__control sk-hidden--visually\" id=\"eceb19f3-c6ef-432b-9144-88aeec1d5b18\" type=\"checkbox\" ><label for=\"eceb19f3-c6ef-432b-9144-88aeec1d5b18\" class=\"sk-toggleable__label sk-toggleable__label-arrow\">StandardScaler</label><div class=\"sk-toggleable__content\"><pre>StandardScaler()</pre></div></div></div></div></div></div></div></div><div class=\"sk-parallel-item\"><div class=\"sk-item\"><div class=\"sk-label-container\"><div class=\"sk-label sk-toggleable\"><label>categorical</label></div></div><div class=\"sk-serial\"><div class=\"sk-item\"><div class=\"sk-serial\"><div class=\"sk-item\"><div class=\"sk-estimator sk-toggleable\"><input class=\"sk-toggleable__control sk-hidden--visually\" id=\"ac7b53f9-87c8-441f-b8f3-6456cabc2062\" type=\"checkbox\" ><label for=\"ac7b53f9-87c8-441f-b8f3-6456cabc2062\" class=\"sk-toggleable__label sk-toggleable__label-arrow\">Columns</label><div class=\"sk-toggleable__content\"><pre>Columns(names=[&#x27;dep&#x27;, &#x27;Code_type_local&#x27;])</pre></div></div></div><div class=\"sk-item\"><div class=\"sk-estimator sk-toggleable\"><input class=\"sk-toggleable__control sk-hidden--visually\" id=\"f79c0286-6c32-4f55-934d-e5c9c580dad6\" type=\"checkbox\" ><label for=\"f79c0286-6c32-4f55-934d-e5c9c580dad6\" class=\"sk-toggleable__label sk-toggleable__label-arrow\">OneHotEncoder</label><div class=\"sk-toggleable__content\"><pre>OneHotEncoder(sparse=False)</pre></div></div></div></div></div></div></div></div></div></div><div class=\"sk-item\"><div class=\"sk-estimator sk-toggleable\"><input class=\"sk-toggleable__control sk-hidden--visually\" id=\"ba6d411f-88e7-48b6-8c4d-a0040cb3c11d\" type=\"checkbox\" ><label for=\"ba6d411f-88e7-48b6-8c4d-a0040cb3c11d\" class=\"sk-toggleable__label sk-toggleable__label-arrow\">Collect</label><div class=\"sk-toggleable__content\"><pre>Collect()</pre></div></div></div><div class=\"sk-item\"><div class=\"sk-estimator sk-toggleable\"><input class=\"sk-toggleable__control sk-hidden--visually\" id=\"b89f38a0-50b3-4c5d-9c19-0e4734f82c81\" type=\"checkbox\" ><label for=\"b89f38a0-50b3-4c5d-9c19-0e4734f82c81\" class=\"sk-toggleable__label sk-toggleable__label-arrow\">RandomForestRegressor</label><div class=\"sk-toggleable__content\"><pre>RandomForestRegressor(max_depth=2, random_state=123)</pre></div></div></div></div></div></div></div>\n",
    "\n",
    "{{< /rawhtml >}}\n"
   ]
  },
  {
   "cell_type": "code",
   "execution_count": null,
   "id": "36de05b3",
   "metadata": {},
   "outputs": [],
   "source": [
    "preprocessor = ColumnTransformer(\n",
    "    transformers=[\n",
    "        ('numeric', StandardScaler(), numeric_features[:-1]),\n",
    "        ('categorical', OneHotEncoder(sparse=False, handle_unknown = \"ignore\"), categorical_features)])\n",
    "\n",
    "pipe3 = Pipeline(steps=[('preprocessor', preprocessor),\n",
    "                      ('randomforest', regr)])"
   ]
  },
  {
   "cell_type": "markdown",
   "id": "81a797ab",
   "metadata": {},
   "source": [
    "{{< rawhtml >}}\n",
    "\n",
    "<style>#sk-aa87018f-dd76-4953-9f83-f1480b93feae {color: black;background-color: white;}#sk-aa87018f-dd76-4953-9f83-f1480b93feae pre{padding: 0;}#sk-aa87018f-dd76-4953-9f83-f1480b93feae div.sk-toggleable {background-color: white;}#sk-aa87018f-dd76-4953-9f83-f1480b93feae label.sk-toggleable__label {cursor: pointer;display: block;width: 100%;margin-bottom: 0;padding: 0.3em;box-sizing: border-box;text-align: center;}#sk-aa87018f-dd76-4953-9f83-f1480b93feae label.sk-toggleable__label-arrow:before {content: \"▸\";float: left;margin-right: 0.25em;color: #696969;}#sk-aa87018f-dd76-4953-9f83-f1480b93feae label.sk-toggleable__label-arrow:hover:before {color: black;}#sk-aa87018f-dd76-4953-9f83-f1480b93feae div.sk-estimator:hover label.sk-toggleable__label-arrow:before {color: black;}#sk-aa87018f-dd76-4953-9f83-f1480b93feae div.sk-toggleable__content {max-height: 0;max-width: 0;overflow: hidden;text-align: left;background-color: #f0f8ff;}#sk-aa87018f-dd76-4953-9f83-f1480b93feae div.sk-toggleable__content pre {margin: 0.2em;color: black;border-radius: 0.25em;background-color: #f0f8ff;}#sk-aa87018f-dd76-4953-9f83-f1480b93feae input.sk-toggleable__control:checked~div.sk-toggleable__content {max-height: 200px;max-width: 100%;overflow: auto;}#sk-aa87018f-dd76-4953-9f83-f1480b93feae input.sk-toggleable__control:checked~label.sk-toggleable__label-arrow:before {content: \"▾\";}#sk-aa87018f-dd76-4953-9f83-f1480b93feae div.sk-estimator input.sk-toggleable__control:checked~label.sk-toggleable__label {background-color: #d4ebff;}#sk-aa87018f-dd76-4953-9f83-f1480b93feae div.sk-label input.sk-toggleable__control:checked~label.sk-toggleable__label {background-color: #d4ebff;}#sk-aa87018f-dd76-4953-9f83-f1480b93feae input.sk-hidden--visually {border: 0;clip: rect(1px 1px 1px 1px);clip: rect(1px, 1px, 1px, 1px);height: 1px;margin: -1px;overflow: hidden;padding: 0;position: absolute;width: 1px;}#sk-aa87018f-dd76-4953-9f83-f1480b93feae div.sk-estimator {font-family: monospace;background-color: #f0f8ff;border: 1px dotted black;border-radius: 0.25em;box-sizing: border-box;margin-bottom: 0.5em;}#sk-aa87018f-dd76-4953-9f83-f1480b93feae div.sk-estimator:hover {background-color: #d4ebff;}#sk-aa87018f-dd76-4953-9f83-f1480b93feae div.sk-parallel-item::after {content: \"\";width: 100%;border-bottom: 1px solid gray;flex-grow: 1;}#sk-aa87018f-dd76-4953-9f83-f1480b93feae div.sk-label:hover label.sk-toggleable__label {background-color: #d4ebff;}#sk-aa87018f-dd76-4953-9f83-f1480b93feae div.sk-serial::before {content: \"\";position: absolute;border-left: 1px solid gray;box-sizing: border-box;top: 2em;bottom: 0;left: 50%;}#sk-aa87018f-dd76-4953-9f83-f1480b93feae div.sk-serial {display: flex;flex-direction: column;align-items: center;background-color: white;padding-right: 0.2em;padding-left: 0.2em;}#sk-aa87018f-dd76-4953-9f83-f1480b93feae div.sk-item {z-index: 1;}#sk-aa87018f-dd76-4953-9f83-f1480b93feae div.sk-parallel {display: flex;align-items: stretch;justify-content: center;background-color: white;}#sk-aa87018f-dd76-4953-9f83-f1480b93feae div.sk-parallel::before {content: \"\";position: absolute;border-left: 1px solid gray;box-sizing: border-box;top: 2em;bottom: 0;left: 50%;}#sk-aa87018f-dd76-4953-9f83-f1480b93feae div.sk-parallel-item {display: flex;flex-direction: column;position: relative;background-color: white;}#sk-aa87018f-dd76-4953-9f83-f1480b93feae div.sk-parallel-item:first-child::after {align-self: flex-end;width: 50%;}#sk-aa87018f-dd76-4953-9f83-f1480b93feae div.sk-parallel-item:last-child::after {align-self: flex-start;width: 50%;}#sk-aa87018f-dd76-4953-9f83-f1480b93feae div.sk-parallel-item:only-child::after {width: 0;}#sk-aa87018f-dd76-4953-9f83-f1480b93feae div.sk-dashed-wrapped {border: 1px dashed gray;margin: 0 0.4em 0.5em 0.4em;box-sizing: border-box;padding-bottom: 0.4em;background-color: white;position: relative;}#sk-aa87018f-dd76-4953-9f83-f1480b93feae div.sk-label label {font-family: monospace;font-weight: bold;background-color: white;display: inline-block;line-height: 1.2em;}#sk-aa87018f-dd76-4953-9f83-f1480b93feae div.sk-label-container {position: relative;z-index: 2;text-align: center;}#sk-aa87018f-dd76-4953-9f83-f1480b93feae div.sk-container {/* jupyter's `normalize.less` sets `[hidden] { display: none; }` but bootstrap.min.css set `[hidden] { display: none !important; }` so we also need the `!important` here to be able to override the default hidden behavior on the sphinx rendered scikit-learn.org. See: https://github.com/scikit-learn/scikit-learn/issues/21755 */display: inline-block !important;position: relative;}#sk-aa87018f-dd76-4953-9f83-f1480b93feae div.sk-text-repr-fallback {display: none;}</style><div id=\"sk-aa87018f-dd76-4953-9f83-f1480b93feae\" class=\"sk-top-container\"><div class=\"sk-text-repr-fallback\"><pre>Pipeline(steps=[(&#x27;preprocessor&#x27;,\n",
    "                 ColumnTransformer(transformers=[(&#x27;numeric&#x27;, StandardScaler(),\n",
    "                                                  [&#x27;Nombre_de_lots&#x27;, &#x27;surface&#x27;,\n",
    "                                                   &#x27;Nombre_pieces_principales&#x27;]),\n",
    "                                                 (&#x27;categorical&#x27;,\n",
    "                                                  OneHotEncoder(handle_unknown=&#x27;ignore&#x27;,\n",
    "                                                                sparse=False),\n",
    "                                                  [&#x27;dep&#x27;,\n",
    "                                                   &#x27;Code_type_local&#x27;])])),\n",
    "                (&#x27;randomforest&#x27;,\n",
    "                 RandomForestRegressor(max_depth=2, random_state=123))])</pre><b>Please rerun this cell to show the HTML repr or trust the notebook.</b></div><div class=\"sk-container\" hidden><div class=\"sk-item sk-dashed-wrapped\"><div class=\"sk-label-container\"><div class=\"sk-label sk-toggleable\"><input class=\"sk-toggleable__control sk-hidden--visually\" id=\"237ad1e6-f3c2-45de-9291-38c0a0020cbd\" type=\"checkbox\" ><label for=\"237ad1e6-f3c2-45de-9291-38c0a0020cbd\" class=\"sk-toggleable__label sk-toggleable__label-arrow\">Pipeline</label><div class=\"sk-toggleable__content\"><pre>Pipeline(steps=[(&#x27;preprocessor&#x27;,\n",
    "                 ColumnTransformer(transformers=[(&#x27;numeric&#x27;, StandardScaler(),\n",
    "                                                  [&#x27;Nombre_de_lots&#x27;, &#x27;surface&#x27;,\n",
    "                                                   &#x27;Nombre_pieces_principales&#x27;]),\n",
    "                                                 (&#x27;categorical&#x27;,\n",
    "                                                  OneHotEncoder(handle_unknown=&#x27;ignore&#x27;,\n",
    "                                                                sparse=False),\n",
    "                                                  [&#x27;dep&#x27;,\n",
    "                                                   &#x27;Code_type_local&#x27;])])),\n",
    "                (&#x27;randomforest&#x27;,\n",
    "                 RandomForestRegressor(max_depth=2, random_state=123))])</pre></div></div></div><div class=\"sk-serial\"><div class=\"sk-item sk-dashed-wrapped\"><div class=\"sk-label-container\"><div class=\"sk-label sk-toggleable\"><input class=\"sk-toggleable__control sk-hidden--visually\" id=\"77994be9-e229-4633-851c-d16c2fab7ada\" type=\"checkbox\" ><label for=\"77994be9-e229-4633-851c-d16c2fab7ada\" class=\"sk-toggleable__label sk-toggleable__label-arrow\">preprocessor: ColumnTransformer</label><div class=\"sk-toggleable__content\"><pre>ColumnTransformer(transformers=[(&#x27;numeric&#x27;, StandardScaler(),\n",
    "                                 [&#x27;Nombre_de_lots&#x27;, &#x27;surface&#x27;,\n",
    "                                  &#x27;Nombre_pieces_principales&#x27;]),\n",
    "                                (&#x27;categorical&#x27;,\n",
    "                                 OneHotEncoder(handle_unknown=&#x27;ignore&#x27;,\n",
    "                                               sparse=False),\n",
    "                                 [&#x27;dep&#x27;, &#x27;Code_type_local&#x27;])])</pre></div></div></div><div class=\"sk-parallel\"><div class=\"sk-parallel-item\"><div class=\"sk-item\"><div class=\"sk-label-container\"><div class=\"sk-label sk-toggleable\"><input class=\"sk-toggleable__control sk-hidden--visually\" id=\"02043698-c505-479d-860d-da9ec31c5f03\" type=\"checkbox\" ><label for=\"02043698-c505-479d-860d-da9ec31c5f03\" class=\"sk-toggleable__label sk-toggleable__label-arrow\">numeric</label><div class=\"sk-toggleable__content\"><pre>[&#x27;Nombre_de_lots&#x27;, &#x27;surface&#x27;, &#x27;Nombre_pieces_principales&#x27;]</pre></div></div></div><div class=\"sk-serial\"><div class=\"sk-item\"><div class=\"sk-estimator sk-toggleable\"><input class=\"sk-toggleable__control sk-hidden--visually\" id=\"e8c5e89e-b915-4eaf-96ef-5e72b23f4b34\" type=\"checkbox\" ><label for=\"e8c5e89e-b915-4eaf-96ef-5e72b23f4b34\" class=\"sk-toggleable__label sk-toggleable__label-arrow\">StandardScaler</label><div class=\"sk-toggleable__content\"><pre>StandardScaler()</pre></div></div></div></div></div></div><div class=\"sk-parallel-item\"><div class=\"sk-item\"><div class=\"sk-label-container\"><div class=\"sk-label sk-toggleable\"><input class=\"sk-toggleable__control sk-hidden--visually\" id=\"ef643556-f463-4748-8159-73a1b86918a6\" type=\"checkbox\" ><label for=\"ef643556-f463-4748-8159-73a1b86918a6\" class=\"sk-toggleable__label sk-toggleable__label-arrow\">categorical</label><div class=\"sk-toggleable__content\"><pre>[&#x27;dep&#x27;, &#x27;Code_type_local&#x27;]</pre></div></div></div><div class=\"sk-serial\"><div class=\"sk-item\"><div class=\"sk-estimator sk-toggleable\"><input class=\"sk-toggleable__control sk-hidden--visually\" id=\"9c5be8e2-f16a-4aee-9191-f37592e6d150\" type=\"checkbox\" ><label for=\"9c5be8e2-f16a-4aee-9191-f37592e6d150\" class=\"sk-toggleable__label sk-toggleable__label-arrow\">OneHotEncoder</label><div class=\"sk-toggleable__content\"><pre>OneHotEncoder(handle_unknown=&#x27;ignore&#x27;, sparse=False)</pre></div></div></div></div></div></div></div></div><div class=\"sk-item\"><div class=\"sk-estimator sk-toggleable\"><input class=\"sk-toggleable__control sk-hidden--visually\" id=\"82ce6215-7419-4d54-b110-0f7bfabe92e4\" type=\"checkbox\" ><label for=\"82ce6215-7419-4d54-b110-0f7bfabe92e4\" class=\"sk-toggleable__label sk-toggleable__label-arrow\">RandomForestRegressor</label><div class=\"sk-toggleable__content\"><pre>RandomForestRegressor(max_depth=2, random_state=123)</pre></div></div></div></div></div></div></div>\n",
    "\n",
    "{{< /rawhtml >}}\n",
    "\n",
    "# Références"
   ]
  },
  {
   "cell_type": "markdown",
   "id": "851240a2",
   "metadata": {},
   "source": [
    "- Breiman L (2001). _\"Random Forests\". Machine Learning_. 45 (1): 5–32."
   ]
  }
 ],
 "metadata": {
  "kernelspec": {
   "display_name": "Python 3",
   "language": "python",
   "name": "python3"
  }
 },
 "nbformat": 4,
 "nbformat_minor": 5
}
