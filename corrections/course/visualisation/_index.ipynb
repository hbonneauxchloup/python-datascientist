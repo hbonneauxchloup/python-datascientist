{
 "cells": [
  {
   "cell_type": "raw",
   "id": "11baf726",
   "metadata": {},
   "source": [
    "---\n",
    "title: \"Partie 2: visualiser les données\"\n",
    "date: 2020-09-16T13:00:00Z\n",
    "draft: false\n",
    "weight: 30\n",
    "icon: chart-line\n",
    "icon_pack: fas\n",
    "#linktitle: Partie 2: visualisation\n",
    "summary: |\n",
    "  Cette partie présente les outils pour visualiser des\n",
    "  données avec Python, qu'il s'agisse de graphiques\n",
    "  figés (matplotlib, seaborn, geoplot...) ou de\n",
    "  visualisation réactives (plotly, folium, etc.)\n",
    "slug: visualisation\n",
    "type: book\n",
    "weight: 30\n",
    "---"
   ]
  },
  {
   "cell_type": "markdown",
   "id": "b2edcf3e",
   "metadata": {},
   "source": []
  },
  {
   "cell_type": "markdown",
   "id": "24ccf4ab",
   "metadata": {},
   "source": [
    "L'écosystème Python de visualisation de données est très riche. Il est\n",
    "possible de consacrer des livres entiers à celui-ci. \n",
    "Dans le domaine de la visualisation, le parti pris est d'explorer quelques\n",
    "librairies centrales à partir d'un nombre restreint d'exemples en\n",
    "répliquant des graphiques qu'on peut trouver sur le site d'*open data* de la \n",
    "mairie de Paris. \n",
    "\n",
    "Seront principalement évoqués, dans la première partie :\n",
    "\n",
    "* la représentation graphique fixe avec les librairies `matplotlib` et `seaborn`\n",
    "* les graphiques réactifs avec `plotly`"
   ]
  },
  {
   "cell_type": "markdown",
   "id": "5c49c77d",
   "metadata": {},
   "source": [
    "{{< list_children >}}\n"
   ]
  }
 ],
 "metadata": {
  "jupytext": {
   "cell_metadata_filter": "-all",
   "main_language": "python",
   "notebook_metadata_filter": "-all"
  }
 },
 "nbformat": 4,
 "nbformat_minor": 5
}
