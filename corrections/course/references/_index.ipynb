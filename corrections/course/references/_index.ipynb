{
 "cells": [
  {
   "cell_type": "raw",
   "id": "1c8bb726",
   "metadata": {},
   "source": [
    "---\n",
    "title: \"Références\"\n",
    "date: 2020-07-16T13:00:00Z\n",
    "draft: false\n",
    "weight: 100\n",
    "summary: |\n",
    "  Quelques références supplémentaires\n",
    "type: book\n",
    "---"
   ]
  },
  {
   "cell_type": "markdown",
   "id": "d8cf26a6",
   "metadata": {},
   "source": [
    "## Livres généralistes\n",
    "\n",
    "* *Python for Data Analysis*, Wes McKinney\n",
    "* *Modern Pandas*, Tom Augspurger. Disponible [ici](https://tomaugspurger.github.io/modern-1-intro.html)\n",
    "* *Python for Data Science Handbook*, Jack VanderPlas\n",
    "([en ligne](https://jakevdp.github.io/PythonDataScienceHandbook/) et\n",
    "[codes sur github](https://github.com/jakevdp/PythonDataScienceHandbook]))\n",
    "\n",
    "## Sites *web*\n",
    "\n",
    "* [`realpython`](https://realpython.com/)\n",
    "* [An introduction to Pandas](http://synesthesiam.com/posts/an-introduction-to-pandas.html)\n",
    "* [Le site de Chris Albon](https://chrisalbon.com/)\n",
    "\n",
    "## MOOC\n",
    "\n",
    "* Andrew Y. Ng, *Machine Learning* ([sur coursera](https://www.coursera.org/learn/machine-learning)) \n",
    "* Apprenez à programmer en Python\n",
    "([sur openclassroom](https://openclassrooms.com/fr/courses/235344-apprenez-a-programmer-en-python))\n",
    "* Découvrez les librairies Python pour la *data science*\n",
    "([sur openclassroom](https://openclassrooms.com/fr/courses/4452741-decouvrez-les-librairies-python-pour-la-data-science/4740941-plongez-en-detail-dans-la-librairie-numpy))"
   ]
  }
 ],
 "metadata": {
  "jupytext": {
   "cell_metadata_filter": "-all",
   "main_language": "python",
   "notebook_metadata_filter": "-all"
  }
 },
 "nbformat": 4,
 "nbformat_minor": 5
}
