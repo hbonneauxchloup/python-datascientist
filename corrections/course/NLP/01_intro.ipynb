{
 "cells": [
  {
   "cell_type": "markdown",
   "id": "de6f04dc",
   "metadata": {},
   "source": [
    "#  Quelques éléments pour comprendre les enjeux\n",
    "\n"
   ]
  },
  {
   "cell_type": "markdown",
   "id": "b4dcd79e",
    "[![githubdev](https://open.vscode.dev/badges/open-in-vscode.svg)](https://github.dev/linogaliana/python-datascientist//__w/python-datascientist/python-datascientist/notebooks/course/NLP/01_intro.ipynb)\n"
   ]
  },
  {
   "cell_type": "markdown",
   "id": "402bd97a",
   "metadata": {},
   "source": [

     
