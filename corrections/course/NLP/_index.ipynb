{
 "cells": [
  {
   "cell_type": "raw",
   "id": "aa5cdbf4",
   "metadata": {},
   "source": [
    "---\n",
    "title: \"Partie 4: Natural Language Processing (NLP)\"\n",
    "date: 2020-10-14T13:00:00Z\n",
    "draft: false\n",
    "weight: 39\n",
    "slug: \"nlp\"\n",
    "icon: book\n",
    "icon_pack: fas\n",
    "#linktitle: \"Partie 4: Natural Language Processing (NLP)\"\n",
    "summary: |\n",
    "  L'un des grands avantages comparatifs de Python par rapport aux\n",
    "  langages concurrents (R notamment) est dans\n",
    "  la richesse des librairies de Traitement du Langage Naturel (mieux\n",
    "  connu sous son acronyme anglais : NLP pour natural langage processing).\n",
    "  Cette partie vise à illustrer la richesse de cet écosystème à partir\n",
    "  de quelques exemples littéraires:  Dumas, Poe, Shelley, Lovecraft.\n",
    "type: book\n",
    "---"
   ]
  },
  {
   "cell_type": "markdown",
   "id": "32abf646",
   "metadata": {},
   "source": [
    "Cette partie du cours est consacrée à l'analyse des données textuelles avec\n",
    "des exemples de :books: pour s'amuser. \n",
    "\n",
    "Dans un premier temps, cette partie propose d'explorer *bag of words* \n",
    "pour montrer comment transformer un corpus en outil propre à une \n",
    "analyse statistique:\n",
    "\n",
    "* Elle propose d'abord une introduction aux enjeux du nettoyage des données\n",
    "textuelles à travers l'analyse du *Comte de Monte Cristo* d'Alexandre Dumas\n",
    "[ici](#nlpintro)\n",
    "* Elle propose une série d'exercices sur le nettoyage de textes à partir des\n",
    "oeuvres d'Edgar Allan Poe, Mary Shelley et H.P. Lovecraft. \n",
    "\n",
    "Ensuite, nous proposerons d'explorer une approche alternative, prenant en compte\n",
    "le contexte d'apparition d'un mot. L'introduction à la\n",
    "_Latent Dirichlet Allocation_ sera l'occasion de présenter la modélisation\n",
    "de documents sous la forme de *topics*.\n",
    "\n",
    "Enfin, nous introduirons aux enjeux de la transformation de champs textuels\n",
    "sous forme de vecteurs numériques. Pour cela, nous présenterons le principe\n",
    "de `Word2Vec` qui permet ainsi, par exemple,\n",
    "malgré une distance syntaxique importante,\n",
    "de dire que sémantiquement `Homme` et `Femme` sont proches."
   ]
  },
  {
   "cell_type": "markdown",
   "id": "78ea26ca",
   "metadata": {},
   "source": [
    "## Contenu de la partie\n",
    "\n",
    "{{< list_children >}}"
   ]
  }
 ],
 "metadata": {
  "jupytext": {
   "cell_metadata_filter": "-all",
   "main_language": "python",
   "notebook_metadata_filter": "-all"
  }
 },
 "nbformat": 4,
 "nbformat_minor": 5
}
