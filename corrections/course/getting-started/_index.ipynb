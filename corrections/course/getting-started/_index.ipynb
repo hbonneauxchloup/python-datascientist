{
 "cells": [
  {
   "cell_type": "raw",
   "id": "16ed9e51",
   "metadata": {},
   "source": [
    "---\n",
    "date: \"2018-09-09T00:00:00Z\"\n",
    "icon: python\n",
    "icon_pack: fab\n",
    "linktitle: \"Introduction: mener un projet statistique avec Python\"\n",
    "summary: |\n",
    "  Cette introduction propose quelques éléments de\n",
    "  révision des concepts de base en Python et\n",
    "  présente l'écosystème Python que nous allons\n",
    "  découvrir tout au long de ce cours.\n",
    "title: Introduction\n",
    "slug: introduction\n",
    "type: book\n",
    "weight: 10\n",
    "---"
   ]
  },
  {
   "cell_type": "markdown",
   "id": "d84b857e",
   "metadata": {},
   "source": [
    "Avant de plonger dans les arcanes de la *data science*, cette partie\n",
    "d'introduction propose des éléments de configuration et des\n",
    "révisions pour mettre le pied à l'étrier.\n",
    "\n",
    "Les notebooks d'exercices sont listés [ici](/course/listetp), visualisables\n",
    "via\n",
    "<a href=\"https://github.com/linogaliana/python-datascientist\" class=\"github\"><i class=\"fab fa-github\"></i></a>\n",
    "ou\n",
    "[![nbviewer](https://img.shields.io/badge/visualize-nbviewer-blue)](https://nbviewer.jupyter.org/github/linogaliana/python-datascientist/tree/master)\n",
    "ainsi que dans les différents environnements prêts à l'emploi mis à\n",
    "disposition\n",
    "[![Onyxia](https://img.shields.io/badge/launch-onyxia-brightgreen)](https://datalab.sspcloud.fr/my-lab/catalogue/inseefrlab-helm-charts-datascience/jupyter/deploiement?resources.requests.memory=4096Mi)\n",
    "[![Binder](https://mybinder.org/badge_logo.svg)](https://mybinder.org/v2/gh/linogaliana/python-datascientist/master)\n",
    "[![Open In Colab](https://colab.research.google.com/assets/colab-badge.svg)](http://colab.research.google.com/github/linogaliana/python-datascientist/blob/master)"
   ]
  },
  {
   "cell_type": "markdown",
   "id": "b684d537",
   "metadata": {},
   "source": [
    "## Pourquoi faire du python pour travailler sur des données ?\n",
    "\n",
    "[Python](https://www.python.org/), par sa grande flexibilité, est devenu un langage incontournable\n",
    "dans le domaine de la *data science*.\n",
    "Le succès de [scikit-learn](https://scikit-learn.org/stable/) et\n",
    "de [Tensorflow](https://www.tensorflow.org/) dans la communauté\n",
    "de la *Data-Science* ont beaucoup contribué à l'adoption de `Python`. Cependant,\n",
    "résumer `Python` à quelques librairies serait réducteur tant il s'agit\n",
    "d'un véritable couteau-suisse pour le *data-scientist*, *social scientist*\n",
    "ou économiste.\n",
    "Comme pour `R`, l'intérêt de Python est son rôle central dans un\n",
    "écosystème plus large autour d'outils puissants, flexibles et *open-source*.\n",
    "\n",
    "L'intérêt de `Python` pour un *data scientist* ou *data economist* va au-delà du champ du *Machine Learning*.\n",
    "Python concurrence très bien `R` dans son domaine de prédilection, à\n",
    "savoir l'analyse statistique sur des\n",
    "objets type *dataframes*. `Python` est bien plus complet dans certains domaines\n",
    "car, outre le *Machine Learning*,\n",
    "`Python` est mieux adapté aux données volumineuses que\n",
    "`R`. `Python` est également meilleur que `R` pour faire\n",
    "du *webscraping*. Dans le domaine de l'économétrie, `Python` offre\n",
    "l'avantage de la simplicité avec un nombre restreint de packages (`scikit` et\n",
    "`statsmodels`) permettant d'avoir des modèles très généraux\n",
    "(les [generalized estimating equations](https://www.statsmodels.org/stable/gee.html)) alors qu'il faut\n",
    "choisir parmi une grande variété de packages en `R` pour obtenir les\n",
    "modèles équivalents.\n",
    "Au contraire, dans certains domaines, `R` reste meilleur. Par exemple,\n",
    "`R` est très bien intégré au langage de publication `Markdown` ce qui,\n",
    "dans certains cas, comme la construction de ce site *web* basée sur\n",
    "`R Markdown`, est fort appréciable.\n",
    "Un des avantages comparatifs de `Python` par rapport à d'autres\n",
    "langages (notamment `R` et `Julia`) est sa dynamique,\n",
    "ce que montre [l'explosion du nombre de questions\n",
    "sur `Stack Overflow`](https://towardsdatascience.com/python-vs-r-for-data-science-6a83e4541000).\n",
    "\n",
    "Cependant, il ne s'agit pas bêtement d'enterrer `R` ; au contraire, outre leur logique très proche,\n",
    "les deux langages sont dans une phase de convergence avec des initiatives comme\n",
    "[`reticulate`](https://rstudio.github.io/reticulate/). Ce dernier package\n",
    "permet d'exécuter des commandes `python` dans un document `R Markdown` mais\n",
    "crée également une correspondance entre les objets `python` et `R`. Les bonnes\n",
    "pratiques peuvent être transposées de manière presque transparente d'un\n",
    "langage à l'autre. A terme, les data-scientists et économistes utiliseront\n",
    "de manière presque indifférente, et en alternance, `python` et `R`. Ce cours\n",
    "présentera ainsi régulièrement des analogies avec `R`."
   ]
  },
  {
   "cell_type": "markdown",
   "id": "4f457f87",
   "metadata": {},
   "source": [
    "## Structuration de cette partie\n",
    "\n",
    "{{< list_children >}}"
   ]
  }
 ],
 "metadata": {
  "jupytext": {
   "cell_metadata_filter": "-all",
   "main_language": "python",
   "notebook_metadata_filter": "-all"
  }
 },
 "nbformat": 4,
 "nbformat_minor": 5
}
