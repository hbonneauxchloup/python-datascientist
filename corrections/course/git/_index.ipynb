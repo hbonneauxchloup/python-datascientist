{
 "cells": [
  {
   "cell_type": "raw",
   "id": "e424c47d",
   "metadata": {},
   "source": [
    "---\n",
    "title: \"Git: un élément essentiel au quotidien\"\n",
    "date: 2020-07-16T13:00:00Z\n",
    "draft: false\n",
    "weight: 70\n",
    "slug: git\n",
    "icon: git-alt\n",
    "icon_pack: fab\n",
    "#linktitle: \"Partie 4: Natural Language Processing (NLP)\"\n",
    "summary: |\n",
    "  Une partie annexe au cours pour découvrir Git, un langage\n",
    "  devenu indispensable pour les data-scientists et économistes\n",
    "  pour stocker et partager des projets Python.\n",
    "type: book\n",
    "---"
   ]
  },
  {
   "cell_type": "markdown",
   "id": "70faf2e8",
   "metadata": {},
   "source": [
    "Cette partie du site présente un élément qui n'est pas propre à\n",
    "`Python` mais qui est néanmoins indispensable: la pratique de `Git`.\n",
    "\n",
    "Une grande partie du contenu de ce chapitre provient du cours\n",
    "[Travail collaboratif avec `R`](https://linogaliana.gitlab.io/collaboratif/git.html)."
   ]
  },
  {
   "cell_type": "markdown",
   "id": "439987e5",
   "metadata": {},
   "source": [
    "# Utilisation de git avec Python\n",
    "\n",
    "### Configurer pycharm pour utiliser le plugin git\n",
    "\n",
    "Aller dans `File > Settings > Version Control > Git` pour définir le\n",
    "chemin vers lequel `Pycharm` doit trouver\n",
    "l'exécutable `git`. Si `Git` a été installé dans un chemin standard,\n",
    "`Pycharm` le trouve ; sinon,\n",
    "il faut lui donner (dans le dossier d'installation `git`,\n",
    "bien choisir l'exécutable présent dans\n",
    "le sous-dossier `cmd/git.exe`)[^1]\n",
    "\n",
    "![Récupération d'un dépôt sur github via git bash](./pictures/vcspycharm2.png)\n",
    "\n",
    "[^1]: Si la case `Use credential helper` est cochée, il est recommandé de la décocher car en cas\n",
    "de mot de passe tapé trop vite, les tentatives de connexion au dépôt distant seront\n",
    "systématiquement refusées"
   ]
  },
  {
   "cell_type": "markdown",
   "id": "d3a60774",
   "metadata": {},
   "source": [
    "### Configurer Jupyter pour utiliser le plugin git\n",
    "\n",
    "La marche à suivre est présentée\n",
    "[sur cette page](https://github.com/jupyterlab/jupyterlab-git)\n",
    "\n",
    "### Configuration Visual Studio pour utiliser `Git`\n",
    "\n",
    "Vous pouvez par exemple vous référer à [cette documentation](https://docs.microsoft.com/fr-fr/visualstudio/version-control/git-with-visual-studio?view=vs-2019)\n",
    "\n",
    "{{< list_children >}}"
   ]
  }
 ],
 "metadata": {
  "jupytext": {
   "cell_metadata_filter": "-all",
   "main_language": "python",
   "notebook_metadata_filter": "-all"
  }
 },
 "nbformat": 4,
 "nbformat_minor": 5
}
